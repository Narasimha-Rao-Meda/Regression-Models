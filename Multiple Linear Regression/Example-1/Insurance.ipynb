{
 "cells": [
  {
   "cell_type": "markdown",
   "metadata": {},
   "source": [
    "# Predicting the Charges"
   ]
  },
  {
   "cell_type": "markdown",
   "metadata": {},
   "source": [
    "## Importing the basic required libraries "
   ]
  },
  {
   "cell_type": "code",
   "execution_count": 1,
   "metadata": {},
   "outputs": [],
   "source": [
    "import pandas as pd\n",
    "import numpy as np\n",
    "import seaborn as sns\n",
    "import matplotlib.pyplot as plt\n",
    "import missingno as ms"
   ]
  },
  {
   "cell_type": "markdown",
   "metadata": {},
   "source": [
    "### Reading the data from csv file"
   ]
  },
  {
   "cell_type": "code",
   "execution_count": 2,
   "metadata": {},
   "outputs": [],
   "source": [
    "data = pd.read_csv('insurance.csv')"
   ]
  },
  {
   "cell_type": "markdown",
   "metadata": {},
   "source": [
    "### Analyze data"
   ]
  },
  {
   "cell_type": "code",
   "execution_count": 3,
   "metadata": {},
   "outputs": [
    {
     "data": {
      "text/html": [
       "<div>\n",
       "<style scoped>\n",
       "    .dataframe tbody tr th:only-of-type {\n",
       "        vertical-align: middle;\n",
       "    }\n",
       "\n",
       "    .dataframe tbody tr th {\n",
       "        vertical-align: top;\n",
       "    }\n",
       "\n",
       "    .dataframe thead th {\n",
       "        text-align: right;\n",
       "    }\n",
       "</style>\n",
       "<table border=\"1\" class=\"dataframe\">\n",
       "  <thead>\n",
       "    <tr style=\"text-align: right;\">\n",
       "      <th></th>\n",
       "      <th>age</th>\n",
       "      <th>sex</th>\n",
       "      <th>bmi</th>\n",
       "      <th>children</th>\n",
       "      <th>smoker</th>\n",
       "      <th>region</th>\n",
       "      <th>charges</th>\n",
       "    </tr>\n",
       "  </thead>\n",
       "  <tbody>\n",
       "    <tr>\n",
       "      <th>0</th>\n",
       "      <td>19</td>\n",
       "      <td>female</td>\n",
       "      <td>27.900</td>\n",
       "      <td>0</td>\n",
       "      <td>yes</td>\n",
       "      <td>southwest</td>\n",
       "      <td>16884.92400</td>\n",
       "    </tr>\n",
       "    <tr>\n",
       "      <th>1</th>\n",
       "      <td>18</td>\n",
       "      <td>male</td>\n",
       "      <td>33.770</td>\n",
       "      <td>1</td>\n",
       "      <td>no</td>\n",
       "      <td>southeast</td>\n",
       "      <td>1725.55230</td>\n",
       "    </tr>\n",
       "    <tr>\n",
       "      <th>2</th>\n",
       "      <td>28</td>\n",
       "      <td>male</td>\n",
       "      <td>33.000</td>\n",
       "      <td>3</td>\n",
       "      <td>no</td>\n",
       "      <td>southeast</td>\n",
       "      <td>4449.46200</td>\n",
       "    </tr>\n",
       "    <tr>\n",
       "      <th>3</th>\n",
       "      <td>33</td>\n",
       "      <td>male</td>\n",
       "      <td>22.705</td>\n",
       "      <td>0</td>\n",
       "      <td>no</td>\n",
       "      <td>northwest</td>\n",
       "      <td>21984.47061</td>\n",
       "    </tr>\n",
       "    <tr>\n",
       "      <th>4</th>\n",
       "      <td>32</td>\n",
       "      <td>male</td>\n",
       "      <td>28.880</td>\n",
       "      <td>0</td>\n",
       "      <td>no</td>\n",
       "      <td>northwest</td>\n",
       "      <td>3866.85520</td>\n",
       "    </tr>\n",
       "  </tbody>\n",
       "</table>\n",
       "</div>"
      ],
      "text/plain": [
       "   age     sex     bmi  children smoker     region      charges\n",
       "0   19  female  27.900         0    yes  southwest  16884.92400\n",
       "1   18    male  33.770         1     no  southeast   1725.55230\n",
       "2   28    male  33.000         3     no  southeast   4449.46200\n",
       "3   33    male  22.705         0     no  northwest  21984.47061\n",
       "4   32    male  28.880         0     no  northwest   3866.85520"
      ]
     },
     "execution_count": 3,
     "metadata": {},
     "output_type": "execute_result"
    }
   ],
   "source": [
    "data.head()"
   ]
  },
  {
   "cell_type": "code",
   "execution_count": 4,
   "metadata": {},
   "outputs": [
    {
     "data": {
      "text/html": [
       "<div>\n",
       "<style scoped>\n",
       "    .dataframe tbody tr th:only-of-type {\n",
       "        vertical-align: middle;\n",
       "    }\n",
       "\n",
       "    .dataframe tbody tr th {\n",
       "        vertical-align: top;\n",
       "    }\n",
       "\n",
       "    .dataframe thead th {\n",
       "        text-align: right;\n",
       "    }\n",
       "</style>\n",
       "<table border=\"1\" class=\"dataframe\">\n",
       "  <thead>\n",
       "    <tr style=\"text-align: right;\">\n",
       "      <th></th>\n",
       "      <th>age</th>\n",
       "      <th>sex</th>\n",
       "      <th>bmi</th>\n",
       "      <th>children</th>\n",
       "      <th>smoker</th>\n",
       "      <th>region</th>\n",
       "      <th>charges</th>\n",
       "    </tr>\n",
       "  </thead>\n",
       "  <tbody>\n",
       "    <tr>\n",
       "      <th>1333</th>\n",
       "      <td>50</td>\n",
       "      <td>male</td>\n",
       "      <td>30.97</td>\n",
       "      <td>3</td>\n",
       "      <td>no</td>\n",
       "      <td>northwest</td>\n",
       "      <td>10600.5483</td>\n",
       "    </tr>\n",
       "    <tr>\n",
       "      <th>1334</th>\n",
       "      <td>18</td>\n",
       "      <td>female</td>\n",
       "      <td>31.92</td>\n",
       "      <td>0</td>\n",
       "      <td>no</td>\n",
       "      <td>northeast</td>\n",
       "      <td>2205.9808</td>\n",
       "    </tr>\n",
       "    <tr>\n",
       "      <th>1335</th>\n",
       "      <td>18</td>\n",
       "      <td>female</td>\n",
       "      <td>36.85</td>\n",
       "      <td>0</td>\n",
       "      <td>no</td>\n",
       "      <td>southeast</td>\n",
       "      <td>1629.8335</td>\n",
       "    </tr>\n",
       "    <tr>\n",
       "      <th>1336</th>\n",
       "      <td>21</td>\n",
       "      <td>female</td>\n",
       "      <td>25.80</td>\n",
       "      <td>0</td>\n",
       "      <td>no</td>\n",
       "      <td>southwest</td>\n",
       "      <td>2007.9450</td>\n",
       "    </tr>\n",
       "    <tr>\n",
       "      <th>1337</th>\n",
       "      <td>61</td>\n",
       "      <td>female</td>\n",
       "      <td>29.07</td>\n",
       "      <td>0</td>\n",
       "      <td>yes</td>\n",
       "      <td>northwest</td>\n",
       "      <td>29141.3603</td>\n",
       "    </tr>\n",
       "  </tbody>\n",
       "</table>\n",
       "</div>"
      ],
      "text/plain": [
       "      age     sex    bmi  children smoker     region     charges\n",
       "1333   50    male  30.97         3     no  northwest  10600.5483\n",
       "1334   18  female  31.92         0     no  northeast   2205.9808\n",
       "1335   18  female  36.85         0     no  southeast   1629.8335\n",
       "1336   21  female  25.80         0     no  southwest   2007.9450\n",
       "1337   61  female  29.07         0    yes  northwest  29141.3603"
      ]
     },
     "execution_count": 4,
     "metadata": {},
     "output_type": "execute_result"
    }
   ],
   "source": [
    "data.tail()"
   ]
  },
  {
   "cell_type": "code",
   "execution_count": 5,
   "metadata": {},
   "outputs": [
    {
     "name": "stdout",
     "output_type": "stream",
     "text": [
      "<class 'pandas.core.frame.DataFrame'>\n",
      "RangeIndex: 1338 entries, 0 to 1337\n",
      "Data columns (total 7 columns):\n",
      " #   Column    Non-Null Count  Dtype  \n",
      "---  ------    --------------  -----  \n",
      " 0   age       1338 non-null   int64  \n",
      " 1   sex       1338 non-null   object \n",
      " 2   bmi       1338 non-null   float64\n",
      " 3   children  1338 non-null   int64  \n",
      " 4   smoker    1338 non-null   object \n",
      " 5   region    1338 non-null   object \n",
      " 6   charges   1338 non-null   float64\n",
      "dtypes: float64(2), int64(2), object(3)\n",
      "memory usage: 73.3+ KB\n"
     ]
    }
   ],
   "source": [
    "data.info()"
   ]
  },
  {
   "cell_type": "code",
   "execution_count": 6,
   "metadata": {},
   "outputs": [
    {
     "data": {
      "text/html": [
       "<div>\n",
       "<style scoped>\n",
       "    .dataframe tbody tr th:only-of-type {\n",
       "        vertical-align: middle;\n",
       "    }\n",
       "\n",
       "    .dataframe tbody tr th {\n",
       "        vertical-align: top;\n",
       "    }\n",
       "\n",
       "    .dataframe thead th {\n",
       "        text-align: right;\n",
       "    }\n",
       "</style>\n",
       "<table border=\"1\" class=\"dataframe\">\n",
       "  <thead>\n",
       "    <tr style=\"text-align: right;\">\n",
       "      <th></th>\n",
       "      <th>age</th>\n",
       "      <th>bmi</th>\n",
       "      <th>children</th>\n",
       "      <th>charges</th>\n",
       "    </tr>\n",
       "  </thead>\n",
       "  <tbody>\n",
       "    <tr>\n",
       "      <th>count</th>\n",
       "      <td>1338.000000</td>\n",
       "      <td>1338.000000</td>\n",
       "      <td>1338.000000</td>\n",
       "      <td>1338.000000</td>\n",
       "    </tr>\n",
       "    <tr>\n",
       "      <th>mean</th>\n",
       "      <td>39.207025</td>\n",
       "      <td>30.663397</td>\n",
       "      <td>1.094918</td>\n",
       "      <td>13270.422265</td>\n",
       "    </tr>\n",
       "    <tr>\n",
       "      <th>std</th>\n",
       "      <td>14.049960</td>\n",
       "      <td>6.098187</td>\n",
       "      <td>1.205493</td>\n",
       "      <td>12110.011237</td>\n",
       "    </tr>\n",
       "    <tr>\n",
       "      <th>min</th>\n",
       "      <td>18.000000</td>\n",
       "      <td>15.960000</td>\n",
       "      <td>0.000000</td>\n",
       "      <td>1121.873900</td>\n",
       "    </tr>\n",
       "    <tr>\n",
       "      <th>25%</th>\n",
       "      <td>27.000000</td>\n",
       "      <td>26.296250</td>\n",
       "      <td>0.000000</td>\n",
       "      <td>4740.287150</td>\n",
       "    </tr>\n",
       "    <tr>\n",
       "      <th>50%</th>\n",
       "      <td>39.000000</td>\n",
       "      <td>30.400000</td>\n",
       "      <td>1.000000</td>\n",
       "      <td>9382.033000</td>\n",
       "    </tr>\n",
       "    <tr>\n",
       "      <th>75%</th>\n",
       "      <td>51.000000</td>\n",
       "      <td>34.693750</td>\n",
       "      <td>2.000000</td>\n",
       "      <td>16639.912515</td>\n",
       "    </tr>\n",
       "    <tr>\n",
       "      <th>max</th>\n",
       "      <td>64.000000</td>\n",
       "      <td>53.130000</td>\n",
       "      <td>5.000000</td>\n",
       "      <td>63770.428010</td>\n",
       "    </tr>\n",
       "  </tbody>\n",
       "</table>\n",
       "</div>"
      ],
      "text/plain": [
       "               age          bmi     children       charges\n",
       "count  1338.000000  1338.000000  1338.000000   1338.000000\n",
       "mean     39.207025    30.663397     1.094918  13270.422265\n",
       "std      14.049960     6.098187     1.205493  12110.011237\n",
       "min      18.000000    15.960000     0.000000   1121.873900\n",
       "25%      27.000000    26.296250     0.000000   4740.287150\n",
       "50%      39.000000    30.400000     1.000000   9382.033000\n",
       "75%      51.000000    34.693750     2.000000  16639.912515\n",
       "max      64.000000    53.130000     5.000000  63770.428010"
      ]
     },
     "execution_count": 6,
     "metadata": {},
     "output_type": "execute_result"
    }
   ],
   "source": [
    "data.describe()"
   ]
  },
  {
   "cell_type": "code",
   "execution_count": 7,
   "metadata": {},
   "outputs": [
    {
     "data": {
      "text/html": [
       "<div>\n",
       "<style scoped>\n",
       "    .dataframe tbody tr th:only-of-type {\n",
       "        vertical-align: middle;\n",
       "    }\n",
       "\n",
       "    .dataframe tbody tr th {\n",
       "        vertical-align: top;\n",
       "    }\n",
       "\n",
       "    .dataframe thead th {\n",
       "        text-align: right;\n",
       "    }\n",
       "</style>\n",
       "<table border=\"1\" class=\"dataframe\">\n",
       "  <thead>\n",
       "    <tr style=\"text-align: right;\">\n",
       "      <th></th>\n",
       "      <th>age</th>\n",
       "      <th>bmi</th>\n",
       "      <th>children</th>\n",
       "      <th>charges</th>\n",
       "    </tr>\n",
       "  </thead>\n",
       "  <tbody>\n",
       "    <tr>\n",
       "      <th>age</th>\n",
       "      <td>1.000000</td>\n",
       "      <td>0.109272</td>\n",
       "      <td>0.042469</td>\n",
       "      <td>0.299008</td>\n",
       "    </tr>\n",
       "    <tr>\n",
       "      <th>bmi</th>\n",
       "      <td>0.109272</td>\n",
       "      <td>1.000000</td>\n",
       "      <td>0.012759</td>\n",
       "      <td>0.198341</td>\n",
       "    </tr>\n",
       "    <tr>\n",
       "      <th>children</th>\n",
       "      <td>0.042469</td>\n",
       "      <td>0.012759</td>\n",
       "      <td>1.000000</td>\n",
       "      <td>0.067998</td>\n",
       "    </tr>\n",
       "    <tr>\n",
       "      <th>charges</th>\n",
       "      <td>0.299008</td>\n",
       "      <td>0.198341</td>\n",
       "      <td>0.067998</td>\n",
       "      <td>1.000000</td>\n",
       "    </tr>\n",
       "  </tbody>\n",
       "</table>\n",
       "</div>"
      ],
      "text/plain": [
       "               age       bmi  children   charges\n",
       "age       1.000000  0.109272  0.042469  0.299008\n",
       "bmi       0.109272  1.000000  0.012759  0.198341\n",
       "children  0.042469  0.012759  1.000000  0.067998\n",
       "charges   0.299008  0.198341  0.067998  1.000000"
      ]
     },
     "execution_count": 7,
     "metadata": {},
     "output_type": "execute_result"
    }
   ],
   "source": [
    "data.corr()"
   ]
  },
  {
   "cell_type": "code",
   "execution_count": 8,
   "metadata": {},
   "outputs": [
    {
     "data": {
      "text/plain": [
       "(1338, 7)"
      ]
     },
     "execution_count": 8,
     "metadata": {},
     "output_type": "execute_result"
    }
   ],
   "source": [
    "data.shape"
   ]
  },
  {
   "cell_type": "markdown",
   "metadata": {},
   "source": [
    "### Visulaize data"
   ]
  },
  {
   "cell_type": "code",
   "execution_count": 9,
   "metadata": {},
   "outputs": [
    {
     "data": {
      "text/plain": [
       "<seaborn.axisgrid.JointGrid at 0x241267cc408>"
      ]
     },
     "execution_count": 9,
     "metadata": {},
     "output_type": "execute_result"
    },
    {
     "data": {
      "image/png": "[encoded data removed]",
      "text/plain": [
       "<Figure size 432x432 with 3 Axes>"
      ]
     },
     "metadata": {
      "needs_background": "light"
     },
     "output_type": "display_data"
    }
   ],
   "source": [
    "sns.jointplot(x='age',y='charges',data=data)"
   ]
  },
  {
   "cell_type": "code",
   "execution_count": 10,
   "metadata": {},
   "outputs": [
    {
     "data": {
      "text/plain": [
       "<matplotlib.axes._subplots.AxesSubplot at 0x24127029788>"
      ]
     },
     "execution_count": 10,
     "metadata": {},
     "output_type": "execute_result"
    },
    {
     "data": {
      "image/png": "[encoded data removed]",
      "text/plain": [
       "<Figure size 432x288 with 1 Axes>"
      ]
     },
     "metadata": {
      "needs_background": "light"
     },
     "output_type": "display_data"
    }
   ],
   "source": [
    "sns.distplot(data['age'])"
   ]
  },
  {
   "cell_type": "code",
   "execution_count": 11,
   "metadata": {},
   "outputs": [
    {
     "data": {
      "text/plain": [
       "<matplotlib.axes._subplots.AxesSubplot at 0x24124e6c2c8>"
      ]
     },
     "execution_count": 11,
     "metadata": {},
     "output_type": "execute_result"
    },
    {
     "data": {
      "image/png": "[encoded data removed]",
      "text/plain": [
       "<Figure size 432x288 with 1 Axes>"
      ]
     },
     "metadata": {
      "needs_background": "light"
     },
     "output_type": "display_data"
    }
   ],
   "source": [
    "sns.swarmplot(x='sex',y='charges',data=data)"
   ]
  },
  {
   "cell_type": "code",
   "execution_count": 12,
   "metadata": {},
   "outputs": [
    {
     "data": {
      "text/plain": [
       "<matplotlib.axes._subplots.AxesSubplot at 0x241271a3b08>"
      ]
     },
     "execution_count": 12,
     "metadata": {},
     "output_type": "execute_result"
    },
    {
     "data": {
      "image/png": "[encoded data removed]",
      "text/plain": [
       "<Figure size 432x288 with 2 Axes>"
      ]
     },
     "metadata": {
      "needs_background": "light"
     },
     "output_type": "display_data"
    }
   ],
   "source": [
    "sns.heatmap(data.corr(),cmap='coolwarm',annot=True)"
   ]
  },
  {
   "cell_type": "code",
   "execution_count": 13,
   "metadata": {},
   "outputs": [
    {
     "data": {
      "text/plain": [
       "<matplotlib.axes._subplots.AxesSubplot at 0x24127254288>"
      ]
     },
     "execution_count": 13,
     "metadata": {},
     "output_type": "execute_result"
    },
    {
     "data": {
      "image/png": "[encoded data removed]",
      "text/plain": [
       "<Figure size 432x288 with 1 Axes>"
      ]
     },
     "metadata": {
      "needs_background": "light"
     },
     "output_type": "display_data"
    }
   ],
   "source": [
    "sns.countplot(data['smoker'])"
   ]
  },
  {
   "cell_type": "code",
   "execution_count": 15,
   "metadata": {},
   "outputs": [
    {
     "data": {
      "text/plain": [
       "<matplotlib.axes._subplots.AxesSubplot at 0x241273397c8>"
      ]
     },
     "execution_count": 15,
     "metadata": {},
     "output_type": "execute_result"
    },
    {
     "data": {
      "image/png": "[encoded data removed]",
      "text/plain": [
       "<Figure size 432x288 with 1 Axes>"
      ]
     },
     "metadata": {
      "needs_background": "light"
     },
     "output_type": "display_data"
    }
   ],
   "source": [
    "sns.swarmplot(x='smoker',y='charges',data=data)"
   ]
  },
  {
   "cell_type": "markdown",
   "metadata": {},
   "source": [
    "### Cleaning the data"
   ]
  },
  {
   "cell_type": "code",
   "execution_count": 16,
   "metadata": {},
   "outputs": [
    {
     "data": {
      "text/plain": [
       "<matplotlib.axes._subplots.AxesSubplot at 0x241273c3548>"
      ]
     },
     "execution_count": 16,
     "metadata": {},
     "output_type": "execute_result"
    },
    {
     "data": {
      "image/png": "[encoded data removed]",
      "text/plain": [
       "<Figure size 1800x720 with 2 Axes>"
      ]
     },
     "metadata": {
      "needs_background": "light"
     },
     "output_type": "display_data"
    }
   ],
   "source": [
    "ms.matrix(data)"
   ]
  },
  {
   "cell_type": "markdown",
   "metadata": {},
   "source": [
    "### Categorical Value Converison"
   ]
  },
  {
   "cell_type": "code",
   "execution_count": 17,
   "metadata": {},
   "outputs": [
    {
     "name": "stdout",
     "output_type": "stream",
     "text": [
      "<class 'pandas.core.frame.DataFrame'>\n",
      "RangeIndex: 1338 entries, 0 to 1337\n",
      "Data columns (total 7 columns):\n",
      " #   Column    Non-Null Count  Dtype  \n",
      "---  ------    --------------  -----  \n",
      " 0   age       1338 non-null   int64  \n",
      " 1   sex       1338 non-null   object \n",
      " 2   bmi       1338 non-null   float64\n",
      " 3   children  1338 non-null   int64  \n",
      " 4   smoker    1338 non-null   object \n",
      " 5   region    1338 non-null   object \n",
      " 6   charges   1338 non-null   float64\n",
      "dtypes: float64(2), int64(2), object(3)\n",
      "memory usage: 73.3+ KB\n"
     ]
    }
   ],
   "source": [
    "data.info()"
   ]
  },
  {
   "cell_type": "code",
   "execution_count": 18,
   "metadata": {},
   "outputs": [],
   "source": [
    "x = data.drop('charges',axis=1)\n",
    "y = data['charges']"
   ]
  },
  {
   "cell_type": "code",
   "execution_count": 19,
   "metadata": {},
   "outputs": [
    {
     "name": "stdout",
     "output_type": "stream",
     "text": [
      "<class 'pandas.core.frame.DataFrame'>\n",
      "RangeIndex: 1338 entries, 0 to 1337\n",
      "Data columns (total 6 columns):\n",
      " #   Column    Non-Null Count  Dtype  \n",
      "---  ------    --------------  -----  \n",
      " 0   age       1338 non-null   int64  \n",
      " 1   sex       1338 non-null   object \n",
      " 2   bmi       1338 non-null   float64\n",
      " 3   children  1338 non-null   int64  \n",
      " 4   smoker    1338 non-null   object \n",
      " 5   region    1338 non-null   object \n",
      "dtypes: float64(1), int64(2), object(3)\n",
      "memory usage: 62.8+ KB\n"
     ]
    }
   ],
   "source": [
    "x.info()"
   ]
  },
  {
   "cell_type": "code",
   "execution_count": 20,
   "metadata": {},
   "outputs": [],
   "source": [
    "from sklearn.compose import ColumnTransformer\n",
    "from sklearn.preprocessing import OneHotEncoder\n",
    "ct = ColumnTransformer(transformers=[('encoder',OneHotEncoder(),[1])],remainder='passthrough')\n",
    "x = np.array(ct.fit_transform(x))"
   ]
  },
  {
   "cell_type": "code",
   "execution_count": 21,
   "metadata": {},
   "outputs": [],
   "source": [
    "from sklearn.compose import ColumnTransformer\n",
    "from sklearn.preprocessing import OneHotEncoder\n",
    "ct = ColumnTransformer(transformers=[('encoder',OneHotEncoder(),[5])],remainder='passthrough')\n",
    "x = np.array(ct.fit_transform(x))"
   ]
  },
  {
   "cell_type": "code",
   "execution_count": 22,
   "metadata": {},
   "outputs": [],
   "source": [
    "from sklearn.compose import ColumnTransformer\n",
    "from sklearn.preprocessing import OneHotEncoder\n",
    "ct = ColumnTransformer(transformers=[('encoder',OneHotEncoder(),[7])],remainder='passthrough')\n",
    "x = np.array(ct.fit_transform(x))"
   ]
  },
  {
   "cell_type": "markdown",
   "metadata": {},
   "source": [
    "### Training dataset"
   ]
  },
  {
   "cell_type": "code",
   "execution_count": 23,
   "metadata": {},
   "outputs": [],
   "source": [
    "from sklearn.model_selection import train_test_split"
   ]
  },
  {
   "cell_type": "code",
   "execution_count": 24,
   "metadata": {},
   "outputs": [],
   "source": [
    "X_train, X_test, Y_train, Y_test = train_test_split(x,y,test_size=0.30,random_state=101)"
   ]
  },
  {
   "cell_type": "code",
   "execution_count": 25,
   "metadata": {},
   "outputs": [
    {
     "data": {
      "text/plain": [
       "(936, 11)"
      ]
     },
     "execution_count": 25,
     "metadata": {},
     "output_type": "execute_result"
    }
   ],
   "source": [
    "X_train.shape"
   ]
  },
  {
   "cell_type": "code",
   "execution_count": 26,
   "metadata": {},
   "outputs": [
    {
     "data": {
      "text/plain": [
       "(402, 11)"
      ]
     },
     "execution_count": 26,
     "metadata": {},
     "output_type": "execute_result"
    }
   ],
   "source": [
    "X_test.shape"
   ]
  },
  {
   "cell_type": "code",
   "execution_count": 27,
   "metadata": {},
   "outputs": [],
   "source": [
    "from sklearn.linear_model import LinearRegression"
   ]
  },
  {
   "cell_type": "code",
   "execution_count": 28,
   "metadata": {},
   "outputs": [],
   "source": [
    "linearRegression = LinearRegression()"
   ]
  },
  {
   "cell_type": "code",
   "execution_count": 29,
   "metadata": {},
   "outputs": [
    {
     "data": {
      "text/plain": [
       "LinearRegression(copy_X=True, fit_intercept=True, n_jobs=None, normalize=False)"
      ]
     },
     "execution_count": 29,
     "metadata": {},
     "output_type": "execute_result"
    }
   ],
   "source": [
    "linearRegression.fit(X_train,Y_train)"
   ]
  },
  {
   "cell_type": "markdown",
   "metadata": {},
   "source": [
    "###  Predicting the model on the test set\n"
   ]
  },
  {
   "cell_type": "code",
   "execution_count": 30,
   "metadata": {},
   "outputs": [],
   "source": [
    "Y_pred_test = linearRegression.predict(X_test)"
   ]
  },
  {
   "cell_type": "code",
   "execution_count": 31,
   "metadata": {},
   "outputs": [
    {
     "data": {
      "text/plain": [
       "LinearRegression(copy_X=True, fit_intercept=True, n_jobs=None, normalize=False)"
      ]
     },
     "execution_count": 31,
     "metadata": {},
     "output_type": "execute_result"
    }
   ],
   "source": [
    "LinearRegression()"
   ]
  },
  {
   "cell_type": "markdown",
   "metadata": {},
   "source": [
    "### Results"
   ]
  },
  {
   "cell_type": "code",
   "execution_count": 32,
   "metadata": {},
   "outputs": [
    {
     "name": "stdout",
     "output_type": "stream",
     "text": [
      "[[ 1.08e+04  6.08e+03]\n",
      " [ 2.84e+03  2.46e+03]\n",
      " [ 1.04e+04  2.55e+04]\n",
      " [ 2.71e+04  3.44e+04]\n",
      " [ 6.24e+03  6.99e+03]\n",
      " [ 2.77e+02  1.70e+03]\n",
      " [ 1.51e+04  1.32e+04]\n",
      " [ 4.33e+03  4.34e+03]\n",
      " [ 1.11e+04  9.78e+03]\n",
      " [ 7.21e+03  4.84e+03]\n",
      " [ 8.18e+03  5.37e+03]\n",
      " [ 1.06e+04  9.63e+03]\n",
      " [ 6.39e+03  4.08e+03]\n",
      " [ 1.25e+04  3.03e+04]\n",
      " [ 3.08e+04  2.12e+04]\n",
      " [ 3.69e+04  4.43e+04]\n",
      " [ 1.06e+04  8.41e+03]\n",
      " [ 3.00e+03  4.39e+03]\n",
      " [ 1.49e+04  1.06e+04]\n",
      " [ 1.36e+04  2.06e+04]\n",
      " [ 2.98e+04  2.02e+04]\n",
      " [ 7.24e+03  2.62e+04]\n",
      " [ 1.29e+04  9.39e+03]\n",
      " [ 5.81e+03  1.37e+04]\n",
      " [ 3.12e+02  1.70e+03]\n",
      " [ 2.49e+04  1.69e+04]\n",
      " [ 1.20e+04  1.43e+04]\n",
      " [ 2.71e+04  3.42e+04]\n",
      " [ 3.80e+04  4.62e+04]\n",
      " [ 4.39e+03  2.90e+03]\n",
      " [ 6.10e+03  3.96e+03]\n",
      " [ 7.14e+03  7.62e+03]\n",
      " [ 3.48e+03  1.64e+03]\n",
      " [ 2.66e+03  1.44e+04]\n",
      " [ 5.97e+03  1.63e+03]\n",
      " [ 5.87e+03  2.03e+04]\n",
      " [ 4.89e+02  1.52e+03]\n",
      " [ 1.26e+04  1.16e+04]\n",
      " [ 1.39e+04  2.70e+04]\n",
      " [ 1.07e+04  1.19e+04]\n",
      " [ 1.02e+04  3.52e+04]\n",
      " [ 9.47e+03  8.70e+03]\n",
      " [ 1.49e+04  1.24e+04]\n",
      " [ 1.03e+04  9.25e+03]\n",
      " [ 6.25e+03  4.36e+03]\n",
      " [ 6.41e+03  2.03e+03]\n",
      " [ 8.16e+03  8.60e+03]\n",
      " [ 2.31e+03  1.13e+03]\n",
      " [ 1.27e+04  9.58e+03]\n",
      " [ 2.09e+03  3.21e+03]\n",
      " [-1.49e+03  2.59e+03]\n",
      " [ 2.70e+03  1.62e+03]\n",
      " [ 7.39e+03  4.92e+03]\n",
      " [ 8.98e+03  4.89e+03]\n",
      " [ 4.37e+03  2.72e+03]\n",
      " [ 1.41e+04  1.40e+04]\n",
      " [ 3.13e+04  2.18e+04]\n",
      " [ 1.11e+04  1.17e+04]\n",
      " [ 1.08e+04  5.40e+03]\n",
      " [ 4.12e+03  4.69e+03]\n",
      " [ 2.35e+02  1.63e+03]\n",
      " [ 3.35e+04  4.02e+04]\n",
      " [ 3.65e+04  4.38e+04]\n",
      " [ 1.35e+04  9.88e+03]\n",
      " [ 1.11e+04  1.25e+04]\n",
      " [ 1.63e+04  1.16e+04]\n",
      " [ 1.32e+04  7.80e+03]\n",
      " [ 2.87e+04  3.63e+04]\n",
      " [ 1.73e+04  1.26e+04]\n",
      " [ 1.15e+04  1.01e+04]\n",
      " [ 2.82e+04  3.61e+04]\n",
      " [ 2.97e+04  3.62e+04]\n",
      " [ 3.40e+03  2.25e+03]\n",
      " [ 3.96e+03  1.39e+03]\n",
      " [ 5.35e+03  5.00e+03]\n",
      " [ 1.07e+04  1.10e+04]\n",
      " [ 1.41e+04  1.20e+04]\n",
      " [ 3.95e+04  4.85e+04]\n",
      " [ 5.51e+03  5.31e+03]\n",
      " [ 2.87e+03  2.24e+04]\n",
      " [ 3.70e+04  4.42e+04]\n",
      " [ 1.63e+04  9.55e+03]\n",
      " [ 3.50e+04  4.17e+04]\n",
      " [ 9.20e+03  1.18e+04]\n",
      " [ 5.97e+02  3.38e+03]\n",
      " [ 6.30e+03  3.02e+03]\n",
      " [ 1.30e+04  1.13e+04]\n",
      " [-2.30e+03  1.69e+03]\n",
      " [ 2.64e+04  1.64e+04]\n",
      " [ 3.77e+04  4.57e+04]\n",
      " [ 1.47e+04  2.65e+04]\n",
      " [ 9.38e+03  9.86e+03]\n",
      " [ 7.26e+03  4.45e+03]\n",
      " [ 8.83e+03  2.61e+04]\n",
      " [ 1.26e+04  1.19e+04]\n",
      " [ 3.88e+03  1.14e+03]\n",
      " [ 7.61e+03  8.89e+03]\n",
      " [ 3.65e+04  4.38e+04]\n",
      " [ 7.80e+03  3.50e+03]\n",
      " [ 2.66e+04  1.70e+04]\n",
      " [ 1.27e+04  1.40e+04]\n",
      " [ 2.68e+04  1.83e+04]\n",
      " [ 6.19e+03  3.49e+03]\n",
      " [ 1.08e+04  2.93e+03]\n",
      " [ 3.02e+04  3.51e+04]\n",
      " [ 3.82e+04  4.69e+04]\n",
      " [ 1.10e+04  1.26e+04]\n",
      " [ 9.95e+03  7.44e+03]\n",
      " [ 2.45e+04  1.55e+04]\n",
      " [ 9.86e+03  8.28e+03]\n",
      " [ 4.40e+03  2.02e+04]\n",
      " [ 1.10e+04  8.54e+03]\n",
      " [ 2.63e+04  1.58e+04]\n",
      " [ 2.80e+04  1.79e+04]\n",
      " [ 1.15e+04  7.44e+03]\n",
      " [ 1.92e+03  2.97e+03]\n",
      " [ 2.12e+03  2.10e+03]\n",
      " [ 4.87e+03  4.88e+03]\n",
      " [ 4.60e+03  3.39e+03]\n",
      " [ 1.32e+04  1.39e+04]\n",
      " [ 1.25e+04  1.95e+04]\n",
      " [ 2.91e+03  2.20e+03]\n",
      " [ 6.35e+03  3.58e+03]\n",
      " [ 1.35e+04  1.12e+04]\n",
      " [ 2.57e+03  1.97e+03]\n",
      " [ 1.24e+04  7.94e+03]\n",
      " [ 5.16e+03  4.24e+03]\n",
      " [ 1.19e+04  1.91e+04]\n",
      " [ 4.58e+03  2.90e+03]\n",
      " [ 1.24e+04  1.05e+04]\n",
      " [ 2.88e+04  1.90e+04]\n",
      " [ 1.08e+04  1.23e+04]\n",
      " [ 9.00e+03  8.03e+03]\n",
      " [ 8.11e+03  5.33e+03]\n",
      " [ 6.63e+03  5.33e+03]\n",
      " [ 6.88e+03  7.99e+03]\n",
      " [ 1.17e+04  9.28e+03]\n",
      " [ 3.97e+03  3.21e+03]\n",
      " [ 3.50e+03  2.21e+03]\n",
      " [ 1.37e+04  1.13e+04]\n",
      " [ 9.55e+03  2.57e+04]\n",
      " [ 3.72e+03  2.63e+03]\n",
      " [ 3.70e+04  4.39e+04]\n",
      " [ 1.47e+04  1.05e+04]\n",
      " [ 1.01e+04  1.11e+04]\n",
      " [ 2.68e+04  1.75e+04]\n",
      " [ 1.37e+04  1.14e+04]\n",
      " [ 1.35e+04  1.07e+04]\n",
      " [ 3.84e+04  4.71e+04]\n",
      " [ 9.90e+03  2.22e+04]\n",
      " [ 6.05e+03  7.53e+03]\n",
      " [ 1.11e+04  1.45e+04]\n",
      " [ 1.14e+04  1.20e+04]\n",
      " [ 1.27e+04  4.69e+03]\n",
      " [ 4.07e+04  6.38e+04]\n",
      " [ 1.29e+04  1.27e+04]\n",
      " [ 7.92e+03  7.42e+03]\n",
      " [ 2.58e+04  1.72e+04]\n",
      " [ 4.76e+03  5.62e+03]\n",
      " [ 8.40e+03  1.24e+04]\n",
      " [ 5.64e+03  4.89e+03]\n",
      " [ 6.35e+03  1.15e+03]\n",
      " [ 9.52e+03  1.21e+04]\n",
      " [ 2.06e+03  1.66e+03]\n",
      " [ 1.89e+04  1.14e+04]\n",
      " [ 7.27e+03  3.60e+03]\n",
      " [ 1.53e+04  8.57e+03]\n",
      " [ 4.11e+03  4.72e+03]\n",
      " [ 3.31e+04  3.28e+04]\n",
      " [ 1.42e+04  1.23e+04]\n",
      " [ 1.01e+03  1.62e+03]\n",
      " [ 1.13e+04  8.33e+03]\n",
      " [ 1.47e+04  9.88e+03]\n",
      " [ 8.89e+03  1.90e+04]\n",
      " [ 3.40e+04  2.57e+04]\n",
      " [ 8.62e+03  8.23e+03]\n",
      " [ 5.76e+03  5.42e+03]\n",
      " [ 3.13e+04  3.77e+04]\n",
      " [ 5.75e+03  3.06e+03]\n",
      " [ 1.33e+04  1.38e+04]\n",
      " [ 1.05e+04  9.49e+03]\n",
      " [ 7.06e+03  8.54e+03]\n",
      " [ 1.46e+04  8.73e+03]\n",
      " [ 1.46e+04  1.14e+04]\n",
      " [ 1.45e+03  2.20e+03]\n",
      " [ 1.02e+04  6.99e+03]\n",
      " [ 3.65e+04  4.44e+04]\n",
      " [ 6.70e+03  9.18e+03]\n",
      " [ 2.95e+04  1.95e+04]\n",
      " [ 1.48e+04  1.50e+04]\n",
      " [ 1.61e+04  1.30e+04]\n",
      " [ 1.20e+04  9.14e+03]\n",
      " [ 3.54e+03  4.50e+03]\n",
      " [ 4.10e+03  3.76e+03]\n",
      " [ 2.85e+04  3.56e+04]\n",
      " [ 5.29e+03  1.65e+03]\n",
      " [ 5.59e+03  6.12e+03]\n",
      " [ 8.58e+03  4.06e+03]\n",
      " [ 2.12e+03  1.84e+03]\n",
      " [ 1.28e+04  6.61e+03]\n",
      " [ 8.23e+03  9.57e+03]\n",
      " [ 1.33e+04  1.15e+04]\n",
      " [ 4.61e+03  1.67e+03]\n",
      " [ 1.31e+04  1.06e+04]\n",
      " [ 1.20e+04  8.46e+03]\n",
      " [ 9.55e+03  6.11e+03]\n",
      " [ 1.13e+04  9.29e+03]\n",
      " [ 1.61e+03  4.01e+03]\n",
      " [ 2.78e+04  1.83e+04]\n",
      " [ 2.30e+03  2.84e+03]\n",
      " [ 5.23e+03  4.42e+03]\n",
      " [ 1.62e+04  1.56e+04]\n",
      " [ 8.95e+03  1.58e+04]\n",
      " [ 2.63e+04  3.27e+04]\n",
      " [ 5.21e+03  1.82e+04]\n",
      " [ 1.07e+04  1.07e+04]\n",
      " [ 6.85e+03  7.62e+03]\n",
      " [ 9.43e+03  1.30e+04]\n",
      " [ 5.48e+02  1.63e+03]\n",
      " [ 1.15e+04  1.11e+04]\n",
      " [ 1.02e+04  6.60e+03]\n",
      " [ 9.26e+03  5.38e+03]\n",
      " [ 1.01e+04  7.68e+03]\n",
      " [ 8.79e+03  7.64e+03]\n",
      " [ 1.20e+04  1.22e+04]\n",
      " [ 2.21e+03  2.05e+03]\n",
      " [ 1.36e+04  8.34e+03]\n",
      " [ 3.66e+04  4.44e+04]\n",
      " [ 4.05e+03  1.98e+03]\n",
      " [ 1.12e+04  9.91e+03]\n",
      " [ 8.33e+03  6.55e+03]\n",
      " [ 3.41e+04  4.09e+04]\n",
      " [ 1.47e+04  1.29e+04]\n",
      " [ 9.40e+03  8.61e+03]\n",
      " [ 1.37e+04  1.44e+04]\n",
      " [ 3.36e+04  3.96e+04]\n",
      " [ 5.86e+03  5.38e+03]\n",
      " [ 3.48e+03  1.14e+03]\n",
      " [ 1.19e+04  1.00e+04]\n",
      " [ 4.79e+03  1.83e+03]\n",
      " [ 5.98e+03  4.62e+03]\n",
      " [ 1.17e+04  7.16e+03]\n",
      " [ 4.28e+03  3.39e+03]\n",
      " [ 8.91e+03  8.52e+03]\n",
      " [ 9.97e+03  7.42e+03]\n",
      " [ 5.09e+03  2.17e+03]\n",
      " [ 2.63e+04  1.77e+04]\n",
      " [ 1.09e+04  1.31e+04]\n",
      " [ 4.92e+03  6.93e+03]\n",
      " [ 1.21e+04  1.21e+04]\n",
      " [ 2.32e+04  1.43e+04]\n",
      " [ 6.54e+03  9.64e+03]\n",
      " [ 1.18e+04  1.02e+04]\n",
      " [ 1.66e+04  1.43e+04]\n",
      " [ 1.31e+04  9.05e+03]\n",
      " [ 5.86e+03  1.99e+03]\n",
      " [ 9.77e+03  7.73e+03]\n",
      " [ 8.64e+03  3.20e+03]\n",
      " [ 1.30e+04  1.06e+04]\n",
      " [ 2.70e+04  3.35e+04]\n",
      " [ 9.58e+00  1.96e+03]\n",
      " [ 3.47e+04  4.11e+04]\n",
      " [ 2.83e+04  3.64e+04]\n",
      " [ 2.30e+03  1.71e+03]\n",
      " [ 2.99e+02  1.71e+03]\n",
      " [ 8.93e+01  2.78e+03]\n",
      " [ 1.27e+04  1.18e+04]\n",
      " [ 1.26e+04  1.18e+04]\n",
      " [ 2.18e+03  1.82e+03]\n",
      " [ 5.25e+03  1.41e+04]\n",
      " [ 1.59e+04  9.06e+03]\n",
      " [ 6.77e+03  6.50e+03]\n",
      " [ 1.41e+04  1.07e+04]\n",
      " [ 1.04e+04  7.35e+03]\n",
      " [ 1.13e+04  2.30e+04]\n",
      " [ 7.60e+03  6.11e+03]\n",
      " [ 1.50e+04  1.23e+04]\n",
      " [ 1.12e+04  9.85e+03]\n",
      " [ 3.23e+03  4.72e+03]\n",
      " [ 1.62e+04  1.35e+04]\n",
      " [ 1.07e+04  9.38e+03]\n",
      " [ 7.87e+03  6.20e+03]\n",
      " [ 3.29e+04  2.42e+04]\n",
      " [ 1.19e+04  9.87e+03]\n",
      " [ 4.04e+04  4.96e+04]\n",
      " [ 1.10e+04  3.69e+03]\n",
      " [ 1.03e+04  8.93e+03]\n",
      " [ 1.28e+04  9.63e+03]\n",
      " [ 6.88e+03  5.24e+03]\n",
      " [ 2.62e+04  1.82e+04]\n",
      " [ 7.84e+03  2.46e+04]\n",
      " [ 1.64e+04  3.16e+04]\n",
      " [ 7.25e+02  2.91e+03]\n",
      " [ 1.45e+04  1.26e+04]\n",
      " [ 1.26e+04  6.67e+03]\n",
      " [ 1.59e+04  1.52e+04]\n",
      " [ 1.53e+04  1.26e+04]\n",
      " [ 6.35e+02  2.59e+03]\n",
      " [ 2.85e+04  1.90e+04]\n",
      " [ 8.06e+03  6.19e+03]\n",
      " [ 8.03e+03  5.43e+03]\n",
      " [ 9.05e+03  7.44e+03]\n",
      " [ 9.94e+02  1.97e+03]\n",
      " [ 3.07e+04  5.12e+04]\n",
      " [ 6.82e+03  4.15e+03]\n",
      " [ 8.65e+03  8.60e+03]\n",
      " [ 8.27e+03  7.74e+03]\n",
      " [ 5.97e+03  3.70e+03]\n",
      " [ 3.06e+04  3.82e+04]\n",
      " [ 1.13e+04  1.03e+04]\n",
      " [ 3.61e+03  1.88e+03]\n",
      " [ 1.13e+04  8.60e+03]\n",
      " [ 2.93e+04  1.94e+04]\n",
      " [ 3.02e+04  3.88e+04]\n",
      " [ 3.74e+04  4.61e+04]\n",
      " [ 3.10e+03  3.85e+03]\n",
      " [ 7.94e+03  6.50e+03]\n",
      " [ 1.19e+04  8.12e+03]\n",
      " [ 1.10e+04  1.07e+04]\n",
      " [ 6.71e+03  4.35e+03]\n",
      " [ 7.09e+03  7.05e+03]\n",
      " [ 3.07e+04  3.78e+04]\n",
      " [ 1.03e+04  8.06e+03]\n",
      " [ 1.53e+04  9.80e+03]\n",
      " [ 5.62e+03  4.04e+03]\n",
      " [ 2.84e+03  2.20e+03]\n",
      " [ 8.75e+03  8.28e+03]\n",
      " [ 4.72e+03  3.76e+03]\n",
      " [ 7.53e+03  6.77e+03]\n",
      " [ 1.07e+04  8.24e+03]\n",
      " [ 9.96e+03  5.43e+03]\n",
      " [ 1.51e+04  1.46e+04]\n",
      " [ 3.47e+04  4.10e+04]\n",
      " [ 9.11e+03  2.83e+04]\n",
      " [ 1.02e+04  1.04e+04]\n",
      " [ 1.17e+04  1.13e+04]\n",
      " [ 7.91e+03  8.02e+03]\n",
      " [ 7.78e+03  6.75e+03]\n",
      " [ 7.16e+03  8.25e+03]\n",
      " [ 1.13e+04  1.13e+04]\n",
      " [ 2.61e+03  2.10e+03]\n",
      " [ 9.94e+03  1.17e+04]\n",
      " [ 3.34e+04  4.01e+04]\n",
      " [ 8.25e+03  8.44e+03]\n",
      " [ 5.19e+03  3.97e+03]\n",
      " [ 1.72e+04  1.38e+04]\n",
      " [ 7.82e+03  7.14e+03]\n",
      " [ 1.45e+04  9.70e+03]\n",
      " [ 3.97e+03  3.55e+03]\n",
      " [ 3.14e+04  2.11e+04]\n",
      " [ 1.41e+04  1.36e+04]\n",
      " [ 9.30e+03  9.28e+03]\n",
      " [ 1.23e+04  8.13e+03]\n",
      " [ 2.94e+04  3.61e+04]\n",
      " [ 6.77e+03  1.88e+04]\n",
      " [ 5.22e+02  2.30e+03]\n",
      " [ 9.81e+03  1.18e+04]\n",
      " [ 5.58e+03  3.17e+03]\n",
      " [ 1.00e+04  1.25e+04]\n",
      " [ 1.07e+04  1.35e+04]\n",
      " [ 5.56e+02  1.71e+03]\n",
      " [ 1.15e+04  1.17e+04]\n",
      " [ 9.36e+03  1.11e+04]\n",
      " [ 1.31e+04  1.01e+04]\n",
      " [ 3.86e+04  4.61e+04]\n",
      " [ 8.21e+03  7.28e+03]\n",
      " [ 5.01e+03  1.53e+03]\n",
      " [ 7.66e+03  5.49e+03]\n",
      " [ 4.86e+03  2.21e+03]\n",
      " [ 3.07e+03  2.26e+03]\n",
      " [ 9.72e+03  4.76e+03]\n",
      " [ 4.92e+03  2.74e+04]\n",
      " [ 8.28e+03  7.73e+03]\n",
      " [ 1.24e+04  1.43e+04]\n",
      " [ 9.46e+03  4.46e+03]\n",
      " [ 6.42e+03  1.68e+03]\n",
      " [ 6.48e+03  2.04e+04]\n",
      " [ 1.05e+04  6.78e+03]\n",
      " [ 9.66e+03  1.01e+04]\n",
      " [ 3.97e+04  4.75e+04]\n",
      " [ 1.36e+04  1.04e+04]\n",
      " [ 1.41e+04  1.40e+04]\n",
      " [ 2.32e+04  1.37e+04]\n",
      " [ 2.14e+03  2.35e+03]\n",
      " [ 3.57e+04  4.29e+04]\n",
      " [ 8.63e+03  1.10e+04]\n",
      " [ 2.85e+04  1.88e+04]\n",
      " [ 1.02e+04  6.55e+03]\n",
      " [ 4.24e+02  2.68e+03]\n",
      " [ 1.08e+04  1.21e+04]\n",
      " [ 4.47e+03  4.19e+03]\n",
      " [ 2.88e+04  3.48e+04]\n",
      " [ 1.04e+04  8.99e+03]\n",
      " [ 7.27e+03  4.50e+03]\n",
      " [ 3.09e+04  3.85e+04]\n",
      " [ 6.75e+03  4.75e+03]\n",
      " [ 2.45e+03  2.16e+03]\n",
      " [ 2.70e+04  1.80e+04]\n",
      " [ 8.21e+03  7.73e+03]\n",
      " [ 3.75e+04  3.09e+04]\n",
      " [ 2.05e+03  3.18e+03]\n",
      " [ 6.49e+02  2.46e+03]]\n"
     ]
    }
   ],
   "source": [
    "Y_test = np.array(Y_test)\n",
    "np.set_printoptions(precision=2)\n",
    "print(np.concatenate((Y_pred_test.reshape(len(Y_pred_test),1),Y_test.reshape(len(Y_test),1)),1))\n"
   ]
  },
  {
   "cell_type": "markdown",
   "metadata": {},
   "source": [
    "### Calculating Single Value"
   ]
  },
  {
   "cell_type": "code",
   "execution_count": 33,
   "metadata": {},
   "outputs": [
    {
     "name": "stdout",
     "output_type": "stream",
     "text": [
      "[23691.67]\n"
     ]
    }
   ],
   "source": [
    "print(linearRegression.predict([[1,0,0,0,0,1,0,1,19,22.2,0]]))"
   ]
  },
  {
   "cell_type": "markdown",
   "metadata": {},
   "source": [
    "### Calculating Coefficents and slope "
   ]
  },
  {
   "cell_type": "code",
   "execution_count": 34,
   "metadata": {},
   "outputs": [
    {
     "name": "stdout",
     "output_type": "stream",
     "text": [
      "[   325.94    495.77   -267.     -554.71 -11731.78  11731.78    -26.07\n",
      "     26.07    241.28    367.19    494.29]\n",
      "               0\n",
      "0     325.941699\n",
      "1     495.767976\n",
      "2    -267.003287\n",
      "3    -554.706388\n",
      "4  -11731.782434\n",
      "5   11731.782434\n",
      "6     -26.067732\n",
      "7      26.067732\n",
      "8     241.278787\n",
      "9     367.188753\n",
      "10    494.290617\n"
     ]
    }
   ],
   "source": [
    "a = linearRegression.coef_\n",
    "print(a)\n",
    "b = pd.DataFrame(a)\n",
    "print(b)"
   ]
  },
  {
   "cell_type": "code",
   "execution_count": 35,
   "metadata": {},
   "outputs": [
    {
     "name": "stdout",
     "output_type": "stream",
     "text": [
      "-1128.0129042153749\n"
     ]
    }
   ],
   "source": [
    "print(linearRegression.intercept_)"
   ]
  },
  {
   "cell_type": "markdown",
   "metadata": {},
   "source": [
    "### Calculating R-squared score"
   ]
  },
  {
   "cell_type": "code",
   "execution_count": 36,
   "metadata": {},
   "outputs": [],
   "source": [
    "from sklearn.metrics import r2_score"
   ]
  },
  {
   "cell_type": "code",
   "execution_count": 39,
   "metadata": {},
   "outputs": [
    {
     "data": {
      "text/plain": [
       "0.7602196966782768"
      ]
     },
     "execution_count": 39,
     "metadata": {},
     "output_type": "execute_result"
    }
   ],
   "source": [
    "r2_score(Y_test,Y_pred_test)"
   ]
  },
  {
   "cell_type": "code",
   "execution_count": null,
   "metadata": {},
   "outputs": [],
   "source": []
  }
 ],
 "metadata": {
  "kernelspec": {
   "display_name": "Python 3",
   "language": "python",
   "name": "python3"
  },
  "language_info": {
   "codemirror_mode": {
    "name": "ipython",
    "version": 3
   },
   "file_extension": ".py",
   "mimetype": "text/x-python",
   "name": "python",
   "nbconvert_exporter": "python",
   "pygments_lexer": "ipython3",
   "version": "3.7.6"
  }
 },
 "nbformat": 4,
 "nbformat_minor": 4
}
