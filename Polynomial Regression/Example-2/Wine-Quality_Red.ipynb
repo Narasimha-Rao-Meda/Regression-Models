{
 "cells": [
  {
   "cell_type": "markdown",
   "metadata": {
    "colab_type": "text",
    "id": "vN99YjPTDena"
   },
   "source": [
    "# Polynomial Regression"
   ]
  },
  {
   "cell_type": "markdown",
   "metadata": {
    "colab_type": "text",
    "id": "ZIx_naXnDyHd"
   },
   "source": [
    "## Importing the libraries"
   ]
  },
  {
   "cell_type": "code",
   "execution_count": 217,
   "metadata": {},
   "outputs": [],
   "source": [
    "import pandas as pd\n",
    "import numpy as np\n",
    "import matplotlib.pyplot as plt\n",
    "import seaborn as sns\n",
    "import missingno as ms"
   ]
  },
  {
   "cell_type": "markdown",
   "metadata": {
    "colab_type": "text",
    "id": "6c8YExmOD5x5"
   },
   "source": [
    "## Importing the dataset"
   ]
  },
  {
   "cell_type": "code",
   "execution_count": 218,
   "metadata": {},
   "outputs": [],
   "source": [
    "data = pd.read_csv('winequality-red.csv')"
   ]
  },
  {
   "cell_type": "markdown",
   "metadata": {},
   "source": [
    "## Analyze data"
   ]
  },
  {
   "cell_type": "code",
   "execution_count": 219,
   "metadata": {},
   "outputs": [
    {
     "data": {
      "text/html": [
       "<div>\n",
       "<style scoped>\n",
       "    .dataframe tbody tr th:only-of-type {\n",
       "        vertical-align: middle;\n",
       "    }\n",
       "\n",
       "    .dataframe tbody tr th {\n",
       "        vertical-align: top;\n",
       "    }\n",
       "\n",
       "    .dataframe thead th {\n",
       "        text-align: right;\n",
       "    }\n",
       "</style>\n",
       "<table border=\"1\" class=\"dataframe\">\n",
       "  <thead>\n",
       "    <tr style=\"text-align: right;\">\n",
       "      <th></th>\n",
       "      <th>fixed acidity</th>\n",
       "      <th>volatile acidity</th>\n",
       "      <th>citric acid</th>\n",
       "      <th>residual sugar</th>\n",
       "      <th>chlorides</th>\n",
       "      <th>free sulfur dioxide</th>\n",
       "      <th>total sulfur dioxide</th>\n",
       "      <th>density</th>\n",
       "      <th>pH</th>\n",
       "      <th>sulphates</th>\n",
       "      <th>alcohol</th>\n",
       "      <th>quality</th>\n",
       "    </tr>\n",
       "  </thead>\n",
       "  <tbody>\n",
       "    <tr>\n",
       "      <th>0</th>\n",
       "      <td>7.4</td>\n",
       "      <td>0.70</td>\n",
       "      <td>0.00</td>\n",
       "      <td>1.9</td>\n",
       "      <td>0.076</td>\n",
       "      <td>11.0</td>\n",
       "      <td>34.0</td>\n",
       "      <td>0.9978</td>\n",
       "      <td>3.51</td>\n",
       "      <td>0.56</td>\n",
       "      <td>9.4</td>\n",
       "      <td>5</td>\n",
       "    </tr>\n",
       "    <tr>\n",
       "      <th>1</th>\n",
       "      <td>7.8</td>\n",
       "      <td>0.88</td>\n",
       "      <td>0.00</td>\n",
       "      <td>2.6</td>\n",
       "      <td>0.098</td>\n",
       "      <td>25.0</td>\n",
       "      <td>67.0</td>\n",
       "      <td>0.9968</td>\n",
       "      <td>3.20</td>\n",
       "      <td>0.68</td>\n",
       "      <td>9.8</td>\n",
       "      <td>5</td>\n",
       "    </tr>\n",
       "    <tr>\n",
       "      <th>2</th>\n",
       "      <td>7.8</td>\n",
       "      <td>0.76</td>\n",
       "      <td>0.04</td>\n",
       "      <td>2.3</td>\n",
       "      <td>0.092</td>\n",
       "      <td>15.0</td>\n",
       "      <td>54.0</td>\n",
       "      <td>0.9970</td>\n",
       "      <td>3.26</td>\n",
       "      <td>0.65</td>\n",
       "      <td>9.8</td>\n",
       "      <td>5</td>\n",
       "    </tr>\n",
       "    <tr>\n",
       "      <th>3</th>\n",
       "      <td>11.2</td>\n",
       "      <td>0.28</td>\n",
       "      <td>0.56</td>\n",
       "      <td>1.9</td>\n",
       "      <td>0.075</td>\n",
       "      <td>17.0</td>\n",
       "      <td>60.0</td>\n",
       "      <td>0.9980</td>\n",
       "      <td>3.16</td>\n",
       "      <td>0.58</td>\n",
       "      <td>9.8</td>\n",
       "      <td>6</td>\n",
       "    </tr>\n",
       "    <tr>\n",
       "      <th>4</th>\n",
       "      <td>7.4</td>\n",
       "      <td>0.70</td>\n",
       "      <td>0.00</td>\n",
       "      <td>1.9</td>\n",
       "      <td>0.076</td>\n",
       "      <td>11.0</td>\n",
       "      <td>34.0</td>\n",
       "      <td>0.9978</td>\n",
       "      <td>3.51</td>\n",
       "      <td>0.56</td>\n",
       "      <td>9.4</td>\n",
       "      <td>5</td>\n",
       "    </tr>\n",
       "  </tbody>\n",
       "</table>\n",
       "</div>"
      ],
      "text/plain": [
       "   fixed acidity  volatile acidity  citric acid  residual sugar  chlorides  \\\n",
       "0            7.4              0.70         0.00             1.9      0.076   \n",
       "1            7.8              0.88         0.00             2.6      0.098   \n",
       "2            7.8              0.76         0.04             2.3      0.092   \n",
       "3           11.2              0.28         0.56             1.9      0.075   \n",
       "4            7.4              0.70         0.00             1.9      0.076   \n",
       "\n",
       "   free sulfur dioxide  total sulfur dioxide  density    pH  sulphates  \\\n",
       "0                 11.0                  34.0   0.9978  3.51       0.56   \n",
       "1                 25.0                  67.0   0.9968  3.20       0.68   \n",
       "2                 15.0                  54.0   0.9970  3.26       0.65   \n",
       "3                 17.0                  60.0   0.9980  3.16       0.58   \n",
       "4                 11.0                  34.0   0.9978  3.51       0.56   \n",
       "\n",
       "   alcohol  quality  \n",
       "0      9.4        5  \n",
       "1      9.8        5  \n",
       "2      9.8        5  \n",
       "3      9.8        6  \n",
       "4      9.4        5  "
      ]
     },
     "execution_count": 219,
     "metadata": {},
     "output_type": "execute_result"
    }
   ],
   "source": [
    "data.head()"
   ]
  },
  {
   "cell_type": "code",
   "execution_count": 220,
   "metadata": {},
   "outputs": [
    {
     "data": {
      "text/html": [
       "<div>\n",
       "<style scoped>\n",
       "    .dataframe tbody tr th:only-of-type {\n",
       "        vertical-align: middle;\n",
       "    }\n",
       "\n",
       "    .dataframe tbody tr th {\n",
       "        vertical-align: top;\n",
       "    }\n",
       "\n",
       "    .dataframe thead th {\n",
       "        text-align: right;\n",
       "    }\n",
       "</style>\n",
       "<table border=\"1\" class=\"dataframe\">\n",
       "  <thead>\n",
       "    <tr style=\"text-align: right;\">\n",
       "      <th></th>\n",
       "      <th>fixed acidity</th>\n",
       "      <th>volatile acidity</th>\n",
       "      <th>citric acid</th>\n",
       "      <th>residual sugar</th>\n",
       "      <th>chlorides</th>\n",
       "      <th>free sulfur dioxide</th>\n",
       "      <th>total sulfur dioxide</th>\n",
       "      <th>density</th>\n",
       "      <th>pH</th>\n",
       "      <th>sulphates</th>\n",
       "      <th>alcohol</th>\n",
       "      <th>quality</th>\n",
       "    </tr>\n",
       "  </thead>\n",
       "  <tbody>\n",
       "    <tr>\n",
       "      <th>1594</th>\n",
       "      <td>6.2</td>\n",
       "      <td>0.600</td>\n",
       "      <td>0.08</td>\n",
       "      <td>2.0</td>\n",
       "      <td>0.090</td>\n",
       "      <td>32.0</td>\n",
       "      <td>44.0</td>\n",
       "      <td>0.99490</td>\n",
       "      <td>3.45</td>\n",
       "      <td>0.58</td>\n",
       "      <td>10.5</td>\n",
       "      <td>5</td>\n",
       "    </tr>\n",
       "    <tr>\n",
       "      <th>1595</th>\n",
       "      <td>5.9</td>\n",
       "      <td>0.550</td>\n",
       "      <td>0.10</td>\n",
       "      <td>2.2</td>\n",
       "      <td>0.062</td>\n",
       "      <td>39.0</td>\n",
       "      <td>51.0</td>\n",
       "      <td>0.99512</td>\n",
       "      <td>3.52</td>\n",
       "      <td>0.76</td>\n",
       "      <td>11.2</td>\n",
       "      <td>6</td>\n",
       "    </tr>\n",
       "    <tr>\n",
       "      <th>1596</th>\n",
       "      <td>6.3</td>\n",
       "      <td>0.510</td>\n",
       "      <td>0.13</td>\n",
       "      <td>2.3</td>\n",
       "      <td>0.076</td>\n",
       "      <td>29.0</td>\n",
       "      <td>40.0</td>\n",
       "      <td>0.99574</td>\n",
       "      <td>3.42</td>\n",
       "      <td>0.75</td>\n",
       "      <td>11.0</td>\n",
       "      <td>6</td>\n",
       "    </tr>\n",
       "    <tr>\n",
       "      <th>1597</th>\n",
       "      <td>5.9</td>\n",
       "      <td>0.645</td>\n",
       "      <td>0.12</td>\n",
       "      <td>2.0</td>\n",
       "      <td>0.075</td>\n",
       "      <td>32.0</td>\n",
       "      <td>44.0</td>\n",
       "      <td>0.99547</td>\n",
       "      <td>3.57</td>\n",
       "      <td>0.71</td>\n",
       "      <td>10.2</td>\n",
       "      <td>5</td>\n",
       "    </tr>\n",
       "    <tr>\n",
       "      <th>1598</th>\n",
       "      <td>6.0</td>\n",
       "      <td>0.310</td>\n",
       "      <td>0.47</td>\n",
       "      <td>3.6</td>\n",
       "      <td>0.067</td>\n",
       "      <td>18.0</td>\n",
       "      <td>42.0</td>\n",
       "      <td>0.99549</td>\n",
       "      <td>3.39</td>\n",
       "      <td>0.66</td>\n",
       "      <td>11.0</td>\n",
       "      <td>6</td>\n",
       "    </tr>\n",
       "  </tbody>\n",
       "</table>\n",
       "</div>"
      ],
      "text/plain": [
       "      fixed acidity  volatile acidity  citric acid  residual sugar  chlorides  \\\n",
       "1594            6.2             0.600         0.08             2.0      0.090   \n",
       "1595            5.9             0.550         0.10             2.2      0.062   \n",
       "1596            6.3             0.510         0.13             2.3      0.076   \n",
       "1597            5.9             0.645         0.12             2.0      0.075   \n",
       "1598            6.0             0.310         0.47             3.6      0.067   \n",
       "\n",
       "      free sulfur dioxide  total sulfur dioxide  density    pH  sulphates  \\\n",
       "1594                 32.0                  44.0  0.99490  3.45       0.58   \n",
       "1595                 39.0                  51.0  0.99512  3.52       0.76   \n",
       "1596                 29.0                  40.0  0.99574  3.42       0.75   \n",
       "1597                 32.0                  44.0  0.99547  3.57       0.71   \n",
       "1598                 18.0                  42.0  0.99549  3.39       0.66   \n",
       "\n",
       "      alcohol  quality  \n",
       "1594     10.5        5  \n",
       "1595     11.2        6  \n",
       "1596     11.0        6  \n",
       "1597     10.2        5  \n",
       "1598     11.0        6  "
      ]
     },
     "execution_count": 220,
     "metadata": {},
     "output_type": "execute_result"
    }
   ],
   "source": [
    "data.tail()"
   ]
  },
  {
   "cell_type": "code",
   "execution_count": 221,
   "metadata": {},
   "outputs": [
    {
     "name": "stdout",
     "output_type": "stream",
     "text": [
      "<class 'pandas.core.frame.DataFrame'>\n",
      "RangeIndex: 1599 entries, 0 to 1598\n",
      "Data columns (total 12 columns):\n",
      " #   Column                Non-Null Count  Dtype  \n",
      "---  ------                --------------  -----  \n",
      " 0   fixed acidity         1599 non-null   float64\n",
      " 1   volatile acidity      1599 non-null   float64\n",
      " 2   citric acid           1599 non-null   float64\n",
      " 3   residual sugar        1599 non-null   float64\n",
      " 4   chlorides             1599 non-null   float64\n",
      " 5   free sulfur dioxide   1599 non-null   float64\n",
      " 6   total sulfur dioxide  1599 non-null   float64\n",
      " 7   density               1599 non-null   float64\n",
      " 8   pH                    1599 non-null   float64\n",
      " 9   sulphates             1599 non-null   float64\n",
      " 10  alcohol               1599 non-null   float64\n",
      " 11  quality               1599 non-null   int64  \n",
      "dtypes: float64(11), int64(1)\n",
      "memory usage: 150.0 KB\n"
     ]
    }
   ],
   "source": [
    "data.info()"
   ]
  },
  {
   "cell_type": "code",
   "execution_count": 222,
   "metadata": {},
   "outputs": [
    {
     "data": {
      "text/html": [
       "<div>\n",
       "<style scoped>\n",
       "    .dataframe tbody tr th:only-of-type {\n",
       "        vertical-align: middle;\n",
       "    }\n",
       "\n",
       "    .dataframe tbody tr th {\n",
       "        vertical-align: top;\n",
       "    }\n",
       "\n",
       "    .dataframe thead th {\n",
       "        text-align: right;\n",
       "    }\n",
       "</style>\n",
       "<table border=\"1\" class=\"dataframe\">\n",
       "  <thead>\n",
       "    <tr style=\"text-align: right;\">\n",
       "      <th></th>\n",
       "      <th>fixed acidity</th>\n",
       "      <th>volatile acidity</th>\n",
       "      <th>citric acid</th>\n",
       "      <th>residual sugar</th>\n",
       "      <th>chlorides</th>\n",
       "      <th>free sulfur dioxide</th>\n",
       "      <th>total sulfur dioxide</th>\n",
       "      <th>density</th>\n",
       "      <th>pH</th>\n",
       "      <th>sulphates</th>\n",
       "      <th>alcohol</th>\n",
       "      <th>quality</th>\n",
       "    </tr>\n",
       "  </thead>\n",
       "  <tbody>\n",
       "    <tr>\n",
       "      <th>count</th>\n",
       "      <td>1599.000000</td>\n",
       "      <td>1599.000000</td>\n",
       "      <td>1599.000000</td>\n",
       "      <td>1599.000000</td>\n",
       "      <td>1599.000000</td>\n",
       "      <td>1599.000000</td>\n",
       "      <td>1599.000000</td>\n",
       "      <td>1599.000000</td>\n",
       "      <td>1599.000000</td>\n",
       "      <td>1599.000000</td>\n",
       "      <td>1599.000000</td>\n",
       "      <td>1599.000000</td>\n",
       "    </tr>\n",
       "    <tr>\n",
       "      <th>mean</th>\n",
       "      <td>8.319637</td>\n",
       "      <td>0.527821</td>\n",
       "      <td>0.270976</td>\n",
       "      <td>2.538806</td>\n",
       "      <td>0.087467</td>\n",
       "      <td>15.874922</td>\n",
       "      <td>46.467792</td>\n",
       "      <td>0.996747</td>\n",
       "      <td>3.311113</td>\n",
       "      <td>0.658149</td>\n",
       "      <td>10.422983</td>\n",
       "      <td>5.636023</td>\n",
       "    </tr>\n",
       "    <tr>\n",
       "      <th>std</th>\n",
       "      <td>1.741096</td>\n",
       "      <td>0.179060</td>\n",
       "      <td>0.194801</td>\n",
       "      <td>1.409928</td>\n",
       "      <td>0.047065</td>\n",
       "      <td>10.460157</td>\n",
       "      <td>32.895324</td>\n",
       "      <td>0.001887</td>\n",
       "      <td>0.154386</td>\n",
       "      <td>0.169507</td>\n",
       "      <td>1.065668</td>\n",
       "      <td>0.807569</td>\n",
       "    </tr>\n",
       "    <tr>\n",
       "      <th>min</th>\n",
       "      <td>4.600000</td>\n",
       "      <td>0.120000</td>\n",
       "      <td>0.000000</td>\n",
       "      <td>0.900000</td>\n",
       "      <td>0.012000</td>\n",
       "      <td>1.000000</td>\n",
       "      <td>6.000000</td>\n",
       "      <td>0.990070</td>\n",
       "      <td>2.740000</td>\n",
       "      <td>0.330000</td>\n",
       "      <td>8.400000</td>\n",
       "      <td>3.000000</td>\n",
       "    </tr>\n",
       "    <tr>\n",
       "      <th>25%</th>\n",
       "      <td>7.100000</td>\n",
       "      <td>0.390000</td>\n",
       "      <td>0.090000</td>\n",
       "      <td>1.900000</td>\n",
       "      <td>0.070000</td>\n",
       "      <td>7.000000</td>\n",
       "      <td>22.000000</td>\n",
       "      <td>0.995600</td>\n",
       "      <td>3.210000</td>\n",
       "      <td>0.550000</td>\n",
       "      <td>9.500000</td>\n",
       "      <td>5.000000</td>\n",
       "    </tr>\n",
       "    <tr>\n",
       "      <th>50%</th>\n",
       "      <td>7.900000</td>\n",
       "      <td>0.520000</td>\n",
       "      <td>0.260000</td>\n",
       "      <td>2.200000</td>\n",
       "      <td>0.079000</td>\n",
       "      <td>14.000000</td>\n",
       "      <td>38.000000</td>\n",
       "      <td>0.996750</td>\n",
       "      <td>3.310000</td>\n",
       "      <td>0.620000</td>\n",
       "      <td>10.200000</td>\n",
       "      <td>6.000000</td>\n",
       "    </tr>\n",
       "    <tr>\n",
       "      <th>75%</th>\n",
       "      <td>9.200000</td>\n",
       "      <td>0.640000</td>\n",
       "      <td>0.420000</td>\n",
       "      <td>2.600000</td>\n",
       "      <td>0.090000</td>\n",
       "      <td>21.000000</td>\n",
       "      <td>62.000000</td>\n",
       "      <td>0.997835</td>\n",
       "      <td>3.400000</td>\n",
       "      <td>0.730000</td>\n",
       "      <td>11.100000</td>\n",
       "      <td>6.000000</td>\n",
       "    </tr>\n",
       "    <tr>\n",
       "      <th>max</th>\n",
       "      <td>15.900000</td>\n",
       "      <td>1.580000</td>\n",
       "      <td>1.000000</td>\n",
       "      <td>15.500000</td>\n",
       "      <td>0.611000</td>\n",
       "      <td>72.000000</td>\n",
       "      <td>289.000000</td>\n",
       "      <td>1.003690</td>\n",
       "      <td>4.010000</td>\n",
       "      <td>2.000000</td>\n",
       "      <td>14.900000</td>\n",
       "      <td>8.000000</td>\n",
       "    </tr>\n",
       "  </tbody>\n",
       "</table>\n",
       "</div>"
      ],
      "text/plain": [
       "       fixed acidity  volatile acidity  citric acid  residual sugar  \\\n",
       "count    1599.000000       1599.000000  1599.000000     1599.000000   \n",
       "mean        8.319637          0.527821     0.270976        2.538806   \n",
       "std         1.741096          0.179060     0.194801        1.409928   \n",
       "min         4.600000          0.120000     0.000000        0.900000   \n",
       "25%         7.100000          0.390000     0.090000        1.900000   \n",
       "50%         7.900000          0.520000     0.260000        2.200000   \n",
       "75%         9.200000          0.640000     0.420000        2.600000   \n",
       "max        15.900000          1.580000     1.000000       15.500000   \n",
       "\n",
       "         chlorides  free sulfur dioxide  total sulfur dioxide      density  \\\n",
       "count  1599.000000          1599.000000           1599.000000  1599.000000   \n",
       "mean      0.087467            15.874922             46.467792     0.996747   \n",
       "std       0.047065            10.460157             32.895324     0.001887   \n",
       "min       0.012000             1.000000              6.000000     0.990070   \n",
       "25%       0.070000             7.000000             22.000000     0.995600   \n",
       "50%       0.079000            14.000000             38.000000     0.996750   \n",
       "75%       0.090000            21.000000             62.000000     0.997835   \n",
       "max       0.611000            72.000000            289.000000     1.003690   \n",
       "\n",
       "                pH    sulphates      alcohol      quality  \n",
       "count  1599.000000  1599.000000  1599.000000  1599.000000  \n",
       "mean      3.311113     0.658149    10.422983     5.636023  \n",
       "std       0.154386     0.169507     1.065668     0.807569  \n",
       "min       2.740000     0.330000     8.400000     3.000000  \n",
       "25%       3.210000     0.550000     9.500000     5.000000  \n",
       "50%       3.310000     0.620000    10.200000     6.000000  \n",
       "75%       3.400000     0.730000    11.100000     6.000000  \n",
       "max       4.010000     2.000000    14.900000     8.000000  "
      ]
     },
     "execution_count": 222,
     "metadata": {},
     "output_type": "execute_result"
    }
   ],
   "source": [
    "data.describe()"
   ]
  },
  {
   "cell_type": "code",
   "execution_count": 223,
   "metadata": {},
   "outputs": [
    {
     "data": {
      "text/html": [
       "<div>\n",
       "<style scoped>\n",
       "    .dataframe tbody tr th:only-of-type {\n",
       "        vertical-align: middle;\n",
       "    }\n",
       "\n",
       "    .dataframe tbody tr th {\n",
       "        vertical-align: top;\n",
       "    }\n",
       "\n",
       "    .dataframe thead th {\n",
       "        text-align: right;\n",
       "    }\n",
       "</style>\n",
       "<table border=\"1\" class=\"dataframe\">\n",
       "  <thead>\n",
       "    <tr style=\"text-align: right;\">\n",
       "      <th></th>\n",
       "      <th>fixed acidity</th>\n",
       "      <th>volatile acidity</th>\n",
       "      <th>citric acid</th>\n",
       "      <th>residual sugar</th>\n",
       "      <th>chlorides</th>\n",
       "      <th>free sulfur dioxide</th>\n",
       "      <th>total sulfur dioxide</th>\n",
       "      <th>density</th>\n",
       "      <th>pH</th>\n",
       "      <th>sulphates</th>\n",
       "      <th>alcohol</th>\n",
       "      <th>quality</th>\n",
       "    </tr>\n",
       "  </thead>\n",
       "  <tbody>\n",
       "    <tr>\n",
       "      <th>fixed acidity</th>\n",
       "      <td>1.000000</td>\n",
       "      <td>-0.256131</td>\n",
       "      <td>0.671703</td>\n",
       "      <td>0.114777</td>\n",
       "      <td>0.093705</td>\n",
       "      <td>-0.153794</td>\n",
       "      <td>-0.113181</td>\n",
       "      <td>0.668047</td>\n",
       "      <td>-0.682978</td>\n",
       "      <td>0.183006</td>\n",
       "      <td>-0.061668</td>\n",
       "      <td>0.124052</td>\n",
       "    </tr>\n",
       "    <tr>\n",
       "      <th>volatile acidity</th>\n",
       "      <td>-0.256131</td>\n",
       "      <td>1.000000</td>\n",
       "      <td>-0.552496</td>\n",
       "      <td>0.001918</td>\n",
       "      <td>0.061298</td>\n",
       "      <td>-0.010504</td>\n",
       "      <td>0.076470</td>\n",
       "      <td>0.022026</td>\n",
       "      <td>0.234937</td>\n",
       "      <td>-0.260987</td>\n",
       "      <td>-0.202288</td>\n",
       "      <td>-0.390558</td>\n",
       "    </tr>\n",
       "    <tr>\n",
       "      <th>citric acid</th>\n",
       "      <td>0.671703</td>\n",
       "      <td>-0.552496</td>\n",
       "      <td>1.000000</td>\n",
       "      <td>0.143577</td>\n",
       "      <td>0.203823</td>\n",
       "      <td>-0.060978</td>\n",
       "      <td>0.035533</td>\n",
       "      <td>0.364947</td>\n",
       "      <td>-0.541904</td>\n",
       "      <td>0.312770</td>\n",
       "      <td>0.109903</td>\n",
       "      <td>0.226373</td>\n",
       "    </tr>\n",
       "    <tr>\n",
       "      <th>residual sugar</th>\n",
       "      <td>0.114777</td>\n",
       "      <td>0.001918</td>\n",
       "      <td>0.143577</td>\n",
       "      <td>1.000000</td>\n",
       "      <td>0.055610</td>\n",
       "      <td>0.187049</td>\n",
       "      <td>0.203028</td>\n",
       "      <td>0.355283</td>\n",
       "      <td>-0.085652</td>\n",
       "      <td>0.005527</td>\n",
       "      <td>0.042075</td>\n",
       "      <td>0.013732</td>\n",
       "    </tr>\n",
       "    <tr>\n",
       "      <th>chlorides</th>\n",
       "      <td>0.093705</td>\n",
       "      <td>0.061298</td>\n",
       "      <td>0.203823</td>\n",
       "      <td>0.055610</td>\n",
       "      <td>1.000000</td>\n",
       "      <td>0.005562</td>\n",
       "      <td>0.047400</td>\n",
       "      <td>0.200632</td>\n",
       "      <td>-0.265026</td>\n",
       "      <td>0.371260</td>\n",
       "      <td>-0.221141</td>\n",
       "      <td>-0.128907</td>\n",
       "    </tr>\n",
       "    <tr>\n",
       "      <th>free sulfur dioxide</th>\n",
       "      <td>-0.153794</td>\n",
       "      <td>-0.010504</td>\n",
       "      <td>-0.060978</td>\n",
       "      <td>0.187049</td>\n",
       "      <td>0.005562</td>\n",
       "      <td>1.000000</td>\n",
       "      <td>0.667666</td>\n",
       "      <td>-0.021946</td>\n",
       "      <td>0.070377</td>\n",
       "      <td>0.051658</td>\n",
       "      <td>-0.069408</td>\n",
       "      <td>-0.050656</td>\n",
       "    </tr>\n",
       "    <tr>\n",
       "      <th>total sulfur dioxide</th>\n",
       "      <td>-0.113181</td>\n",
       "      <td>0.076470</td>\n",
       "      <td>0.035533</td>\n",
       "      <td>0.203028</td>\n",
       "      <td>0.047400</td>\n",
       "      <td>0.667666</td>\n",
       "      <td>1.000000</td>\n",
       "      <td>0.071269</td>\n",
       "      <td>-0.066495</td>\n",
       "      <td>0.042947</td>\n",
       "      <td>-0.205654</td>\n",
       "      <td>-0.185100</td>\n",
       "    </tr>\n",
       "    <tr>\n",
       "      <th>density</th>\n",
       "      <td>0.668047</td>\n",
       "      <td>0.022026</td>\n",
       "      <td>0.364947</td>\n",
       "      <td>0.355283</td>\n",
       "      <td>0.200632</td>\n",
       "      <td>-0.021946</td>\n",
       "      <td>0.071269</td>\n",
       "      <td>1.000000</td>\n",
       "      <td>-0.341699</td>\n",
       "      <td>0.148506</td>\n",
       "      <td>-0.496180</td>\n",
       "      <td>-0.174919</td>\n",
       "    </tr>\n",
       "    <tr>\n",
       "      <th>pH</th>\n",
       "      <td>-0.682978</td>\n",
       "      <td>0.234937</td>\n",
       "      <td>-0.541904</td>\n",
       "      <td>-0.085652</td>\n",
       "      <td>-0.265026</td>\n",
       "      <td>0.070377</td>\n",
       "      <td>-0.066495</td>\n",
       "      <td>-0.341699</td>\n",
       "      <td>1.000000</td>\n",
       "      <td>-0.196648</td>\n",
       "      <td>0.205633</td>\n",
       "      <td>-0.057731</td>\n",
       "    </tr>\n",
       "    <tr>\n",
       "      <th>sulphates</th>\n",
       "      <td>0.183006</td>\n",
       "      <td>-0.260987</td>\n",
       "      <td>0.312770</td>\n",
       "      <td>0.005527</td>\n",
       "      <td>0.371260</td>\n",
       "      <td>0.051658</td>\n",
       "      <td>0.042947</td>\n",
       "      <td>0.148506</td>\n",
       "      <td>-0.196648</td>\n",
       "      <td>1.000000</td>\n",
       "      <td>0.093595</td>\n",
       "      <td>0.251397</td>\n",
       "    </tr>\n",
       "    <tr>\n",
       "      <th>alcohol</th>\n",
       "      <td>-0.061668</td>\n",
       "      <td>-0.202288</td>\n",
       "      <td>0.109903</td>\n",
       "      <td>0.042075</td>\n",
       "      <td>-0.221141</td>\n",
       "      <td>-0.069408</td>\n",
       "      <td>-0.205654</td>\n",
       "      <td>-0.496180</td>\n",
       "      <td>0.205633</td>\n",
       "      <td>0.093595</td>\n",
       "      <td>1.000000</td>\n",
       "      <td>0.476166</td>\n",
       "    </tr>\n",
       "    <tr>\n",
       "      <th>quality</th>\n",
       "      <td>0.124052</td>\n",
       "      <td>-0.390558</td>\n",
       "      <td>0.226373</td>\n",
       "      <td>0.013732</td>\n",
       "      <td>-0.128907</td>\n",
       "      <td>-0.050656</td>\n",
       "      <td>-0.185100</td>\n",
       "      <td>-0.174919</td>\n",
       "      <td>-0.057731</td>\n",
       "      <td>0.251397</td>\n",
       "      <td>0.476166</td>\n",
       "      <td>1.000000</td>\n",
       "    </tr>\n",
       "  </tbody>\n",
       "</table>\n",
       "</div>"
      ],
      "text/plain": [
       "                      fixed acidity  volatile acidity  citric acid  \\\n",
       "fixed acidity              1.000000         -0.256131     0.671703   \n",
       "volatile acidity          -0.256131          1.000000    -0.552496   \n",
       "citric acid                0.671703         -0.552496     1.000000   \n",
       "residual sugar             0.114777          0.001918     0.143577   \n",
       "chlorides                  0.093705          0.061298     0.203823   \n",
       "free sulfur dioxide       -0.153794         -0.010504    -0.060978   \n",
       "total sulfur dioxide      -0.113181          0.076470     0.035533   \n",
       "density                    0.668047          0.022026     0.364947   \n",
       "pH                        -0.682978          0.234937    -0.541904   \n",
       "sulphates                  0.183006         -0.260987     0.312770   \n",
       "alcohol                   -0.061668         -0.202288     0.109903   \n",
       "quality                    0.124052         -0.390558     0.226373   \n",
       "\n",
       "                      residual sugar  chlorides  free sulfur dioxide  \\\n",
       "fixed acidity               0.114777   0.093705            -0.153794   \n",
       "volatile acidity            0.001918   0.061298            -0.010504   \n",
       "citric acid                 0.143577   0.203823            -0.060978   \n",
       "residual sugar              1.000000   0.055610             0.187049   \n",
       "chlorides                   0.055610   1.000000             0.005562   \n",
       "free sulfur dioxide         0.187049   0.005562             1.000000   \n",
       "total sulfur dioxide        0.203028   0.047400             0.667666   \n",
       "density                     0.355283   0.200632            -0.021946   \n",
       "pH                         -0.085652  -0.265026             0.070377   \n",
       "sulphates                   0.005527   0.371260             0.051658   \n",
       "alcohol                     0.042075  -0.221141            -0.069408   \n",
       "quality                     0.013732  -0.128907            -0.050656   \n",
       "\n",
       "                      total sulfur dioxide   density        pH  sulphates  \\\n",
       "fixed acidity                    -0.113181  0.668047 -0.682978   0.183006   \n",
       "volatile acidity                  0.076470  0.022026  0.234937  -0.260987   \n",
       "citric acid                       0.035533  0.364947 -0.541904   0.312770   \n",
       "residual sugar                    0.203028  0.355283 -0.085652   0.005527   \n",
       "chlorides                         0.047400  0.200632 -0.265026   0.371260   \n",
       "free sulfur dioxide               0.667666 -0.021946  0.070377   0.051658   \n",
       "total sulfur dioxide              1.000000  0.071269 -0.066495   0.042947   \n",
       "density                           0.071269  1.000000 -0.341699   0.148506   \n",
       "pH                               -0.066495 -0.341699  1.000000  -0.196648   \n",
       "sulphates                         0.042947  0.148506 -0.196648   1.000000   \n",
       "alcohol                          -0.205654 -0.496180  0.205633   0.093595   \n",
       "quality                          -0.185100 -0.174919 -0.057731   0.251397   \n",
       "\n",
       "                       alcohol   quality  \n",
       "fixed acidity        -0.061668  0.124052  \n",
       "volatile acidity     -0.202288 -0.390558  \n",
       "citric acid           0.109903  0.226373  \n",
       "residual sugar        0.042075  0.013732  \n",
       "chlorides            -0.221141 -0.128907  \n",
       "free sulfur dioxide  -0.069408 -0.050656  \n",
       "total sulfur dioxide -0.205654 -0.185100  \n",
       "density              -0.496180 -0.174919  \n",
       "pH                    0.205633 -0.057731  \n",
       "sulphates             0.093595  0.251397  \n",
       "alcohol               1.000000  0.476166  \n",
       "quality               0.476166  1.000000  "
      ]
     },
     "execution_count": 223,
     "metadata": {},
     "output_type": "execute_result"
    }
   ],
   "source": [
    "data.corr()"
   ]
  },
  {
   "cell_type": "markdown",
   "metadata": {},
   "source": [
    "### Visualizing the  data"
   ]
  },
  {
   "cell_type": "code",
   "execution_count": 224,
   "metadata": {},
   "outputs": [
    {
     "data": {
      "text/plain": [
       "<seaborn.axisgrid.JointGrid at 0x299676b8d48>"
      ]
     },
     "execution_count": 224,
     "metadata": {},
     "output_type": "execute_result"
    },
    {
     "data": {
      "image/png": "[encoded data removed]",
      "text/plain": [
       "<Figure size 432x432 with 3 Axes>"
      ]
     },
     "metadata": {
      "needs_background": "light"
     },
     "output_type": "display_data"
    }
   ],
   "source": [
    "sns.jointplot(x='pH',y='quality',data=data)"
   ]
  },
  {
   "cell_type": "code",
   "execution_count": 225,
   "metadata": {},
   "outputs": [
    {
     "data": {
      "text/plain": [
       "<matplotlib.axes._subplots.AxesSubplot at 0x2996834c148>"
      ]
     },
     "execution_count": 225,
     "metadata": {},
     "output_type": "execute_result"
    },
    {
     "data": {
      "image/png": "[encoded data removed]",
      "text/plain": [
       "<Figure size 432x288 with 1 Axes>"
      ]
     },
     "metadata": {
      "needs_background": "light"
     },
     "output_type": "display_data"
    }
   ],
   "source": [
    "sns.distplot(data['quality'])"
   ]
  },
  {
   "cell_type": "code",
   "execution_count": 226,
   "metadata": {},
   "outputs": [
    {
     "data": {
      "text/plain": [
       "<matplotlib.axes._subplots.AxesSubplot at 0x29967c296c8>"
      ]
     },
     "execution_count": 226,
     "metadata": {},
     "output_type": "execute_result"
    },
    {
     "data": {
      "image/png": "[encoded data removed]",
      "text/plain": [
       "<Figure size 432x288 with 2 Axes>"
      ]
     },
     "metadata": {
      "needs_background": "light"
     },
     "output_type": "display_data"
    }
   ],
   "source": [
    "sns.heatmap(data.corr(),annot=True,cmap=\"coolwarm\")"
   ]
  },
  {
   "cell_type": "code",
   "execution_count": 227,
   "metadata": {},
   "outputs": [
    {
     "data": {
      "text/plain": [
       "<matplotlib.axes._subplots.AxesSubplot at 0x29967e02fc8>"
      ]
     },
     "execution_count": 227,
     "metadata": {},
     "output_type": "execute_result"
    },
    {
     "data": {
      "image/png": "[encoded data removed]",
      "text/plain": [
       "<Figure size 432x288 with 1 Axes>"
      ]
     },
     "metadata": {
      "needs_background": "light"
     },
     "output_type": "display_data"
    }
   ],
   "source": [
    "sns.swarmplot(x='alcohol',y='quality',data=data)"
   ]
  },
  {
   "cell_type": "code",
   "execution_count": 228,
   "metadata": {},
   "outputs": [
    {
     "data": {
      "text/plain": [
       "<matplotlib.axes._subplots.AxesSubplot at 0x29967febe48>"
      ]
     },
     "execution_count": 228,
     "metadata": {},
     "output_type": "execute_result"
    },
    {
     "data": {
      "image/png": "[encoded data removed]",
      "text/plain": [
       "<Figure size 432x288 with 1 Axes>"
      ]
     },
     "metadata": {
      "needs_background": "light"
     },
     "output_type": "display_data"
    }
   ],
   "source": [
    "sns.countplot(data['pH'])"
   ]
  },
  {
   "cell_type": "code",
   "execution_count": 229,
   "metadata": {},
   "outputs": [
    {
     "data": {
      "text/plain": [
       "<matplotlib.axes._subplots.AxesSubplot at 0x299681f5c08>"
      ]
     },
     "execution_count": 229,
     "metadata": {},
     "output_type": "execute_result"
    },
    {
     "data": {
      "image/png": "[encoded data removed]",
      "text/plain": [
       "<Figure size 432x288 with 1 Axes>"
      ]
     },
     "metadata": {
      "needs_background": "light"
     },
     "output_type": "display_data"
    }
   ],
   "source": [
    "sns.distplot(data['fixed acidity'])"
   ]
  },
  {
   "cell_type": "markdown",
   "metadata": {},
   "source": [
    "### Cleaning data"
   ]
  },
  {
   "cell_type": "code",
   "execution_count": 230,
   "metadata": {},
   "outputs": [
    {
     "data": {
      "text/plain": [
       "<matplotlib.axes._subplots.AxesSubplot at 0x299685d0348>"
      ]
     },
     "execution_count": 230,
     "metadata": {},
     "output_type": "execute_result"
    },
    {
     "data": {
      "image/png": "[encoded data removed]",
      "text/plain": [
       "<Figure size 1800x720 with 2 Axes>"
      ]
     },
     "metadata": {
      "needs_background": "light"
     },
     "output_type": "display_data"
    }
   ],
   "source": [
    "ms.matrix(data)"
   ]
  },
  {
   "cell_type": "markdown",
   "metadata": {},
   "source": [
    "### Categorical Conversion"
   ]
  },
  {
   "cell_type": "code",
   "execution_count": 231,
   "metadata": {},
   "outputs": [
    {
     "name": "stdout",
     "output_type": "stream",
     "text": [
      "<class 'pandas.core.frame.DataFrame'>\n",
      "RangeIndex: 1599 entries, 0 to 1598\n",
      "Data columns (total 12 columns):\n",
      " #   Column                Non-Null Count  Dtype  \n",
      "---  ------                --------------  -----  \n",
      " 0   fixed acidity         1599 non-null   float64\n",
      " 1   volatile acidity      1599 non-null   float64\n",
      " 2   citric acid           1599 non-null   float64\n",
      " 3   residual sugar        1599 non-null   float64\n",
      " 4   chlorides             1599 non-null   float64\n",
      " 5   free sulfur dioxide   1599 non-null   float64\n",
      " 6   total sulfur dioxide  1599 non-null   float64\n",
      " 7   density               1599 non-null   float64\n",
      " 8   pH                    1599 non-null   float64\n",
      " 9   sulphates             1599 non-null   float64\n",
      " 10  alcohol               1599 non-null   float64\n",
      " 11  quality               1599 non-null   int64  \n",
      "dtypes: float64(11), int64(1)\n",
      "memory usage: 150.0 KB\n"
     ]
    }
   ],
   "source": [
    "data.info()"
   ]
  },
  {
   "cell_type": "code",
   "execution_count": 232,
   "metadata": {},
   "outputs": [],
   "source": [
    "x = data.drop('quality',axis=1)\n",
    "y = data['quality']"
   ]
  },
  {
   "cell_type": "markdown",
   "metadata": {},
   "source": [
    "### Splitting the data into train and test datasets"
   ]
  },
  {
   "cell_type": "code",
   "execution_count": 233,
   "metadata": {},
   "outputs": [],
   "source": [
    "from sklearn.model_selection import train_test_split"
   ]
  },
  {
   "cell_type": "code",
   "execution_count": 234,
   "metadata": {},
   "outputs": [],
   "source": [
    "X_train, X_test , Y_train, Y_test = train_test_split(x,y,test_size=0.3,random_state=0)"
   ]
  },
  {
   "cell_type": "markdown",
   "metadata": {
    "colab_type": "text",
    "id": "Rb5nWuSHEfBV"
   },
   "source": [
    "## Training the Polynomial Regression model"
   ]
  },
  {
   "cell_type": "code",
   "execution_count": 235,
   "metadata": {},
   "outputs": [],
   "source": [
    "from sklearn.preprocessing import PolynomialFeatures"
   ]
  },
  {
   "cell_type": "code",
   "execution_count": 236,
   "metadata": {},
   "outputs": [],
   "source": [
    "polynomialFeature = PolynomialFeatures(degree=4)"
   ]
  },
  {
   "cell_type": "code",
   "execution_count": 237,
   "metadata": {},
   "outputs": [],
   "source": [
    "X_poly = polynomialFeature.fit_transform(X_train)"
   ]
  },
  {
   "cell_type": "code",
   "execution_count": 238,
   "metadata": {
    "scrolled": true
   },
   "outputs": [
    {
     "name": "stdout",
     "output_type": "stream",
     "text": [
      "[[1.00e+00 8.60e+00 4.90e-01 ... 3.77e+02 1.86e+03 9.22e+03]\n",
      " [1.00e+00 8.00e+00 1.80e-01 ... 3.12e+01 9.01e+02 2.60e+04]\n",
      " [1.00e+00 6.80e+00 6.70e-01 ... 5.15e+01 6.75e+02 8.85e+03]\n",
      " ...\n",
      " [1.00e+00 7.90e+00 5.70e-01 ... 4.30e+01 5.92e+02 8.15e+03]\n",
      " [1.00e+00 1.30e+01 4.70e-01 ... 7.46e+01 1.39e+03 2.60e+04]\n",
      " [1.00e+00 9.80e+00 9.80e-01 ... 2.04e+01 3.99e+02 7.81e+03]]\n"
     ]
    }
   ],
   "source": [
    "print(X_poly)"
   ]
  },
  {
   "cell_type": "code",
   "execution_count": 239,
   "metadata": {},
   "outputs": [
    {
     "data": {
      "text/plain": [
       "LinearRegression(copy_X=True, fit_intercept=True, n_jobs=None, normalize=False)"
      ]
     },
     "execution_count": 239,
     "metadata": {},
     "output_type": "execute_result"
    }
   ],
   "source": [
    "from sklearn.linear_model import LinearRegression\n",
    "regressor = LinearRegression()\n",
    "regressor.fit(X_poly,Y_train)"
   ]
  },
  {
   "cell_type": "code",
   "execution_count": 240,
   "metadata": {},
   "outputs": [],
   "source": [
    "Y_pred_test = regressor.predict(polynomialFeature.transform(X_test))"
   ]
  },
  {
   "cell_type": "markdown",
   "metadata": {},
   "source": [
    "### Results"
   ]
  },
  {
   "cell_type": "code",
   "execution_count": 241,
   "metadata": {},
   "outputs": [],
   "source": [
    "Y_test = np.array(Y_test)\n",
    "Y_pred_test = np.array(Y_pred_test)"
   ]
  },
  {
   "cell_type": "code",
   "execution_count": 242,
   "metadata": {},
   "outputs": [
    {
     "name": "stdout",
     "output_type": "stream",
     "text": [
      "[[ 6.00e+00  7.71e+01]\n",
      " [ 5.00e+00 -9.20e+00]\n",
      " [ 7.00e+00  6.99e+00]\n",
      " [ 6.00e+00  2.25e+00]\n",
      " [ 5.00e+00  5.00e+00]\n",
      " [ 6.00e+00  4.55e+00]\n",
      " [ 5.00e+00  1.07e+01]\n",
      " [ 6.00e+00  6.00e+00]\n",
      " [ 4.00e+00  2.67e+01]\n",
      " [ 5.00e+00  9.96e+00]\n",
      " [ 5.00e+00  5.81e+00]\n",
      " [ 5.00e+00  5.00e+00]\n",
      " [ 6.00e+00  5.99e+00]\n",
      " [ 5.00e+00  1.92e+02]\n",
      " [ 6.00e+00  9.06e-01]\n",
      " [ 6.00e+00  1.50e+01]\n",
      " [ 7.00e+00  7.00e+00]\n",
      " [ 5.00e+00  1.15e+01]\n",
      " [ 5.00e+00  8.63e+00]\n",
      " [ 4.00e+00  2.44e+01]\n",
      " [ 7.00e+00 -4.96e+00]\n",
      " [ 6.00e+00  2.02e+01]\n",
      " [ 6.00e+00  5.97e+00]\n",
      " [ 4.00e+00  1.97e+03]\n",
      " [ 6.00e+00  2.83e+00]\n",
      " [ 5.00e+00 -1.10e+01]\n",
      " [ 5.00e+00  1.30e+01]\n",
      " [ 7.00e+00  1.37e+01]\n",
      " [ 5.00e+00 -5.49e-01]\n",
      " [ 6.00e+00  1.50e+01]\n",
      " [ 5.00e+00  2.44e+00]\n",
      " [ 6.00e+00 -2.58e+00]\n",
      " [ 5.00e+00  1.02e+01]\n",
      " [ 6.00e+00  4.77e+00]\n",
      " [ 7.00e+00  7.00e+00]\n",
      " [ 7.00e+00  7.00e+00]\n",
      " [ 5.00e+00 -8.68e+00]\n",
      " [ 6.00e+00  2.12e+01]\n",
      " [ 6.00e+00  8.98e+00]\n",
      " [ 7.00e+00  5.39e+00]\n",
      " [ 5.00e+00  1.17e+01]\n",
      " [ 7.00e+00  1.98e+01]\n",
      " [ 6.00e+00 -1.63e+02]\n",
      " [ 6.00e+00  7.77e+01]\n",
      " [ 5.00e+00  4.80e+00]\n",
      " [ 5.00e+00  1.77e+01]\n",
      " [ 6.00e+00  1.08e+01]\n",
      " [ 6.00e+00  6.01e+00]\n",
      " [ 6.00e+00  7.71e-01]\n",
      " [ 5.00e+00  1.19e+01]\n",
      " [ 5.00e+00  2.71e+00]\n",
      " [ 5.00e+00  4.74e+00]\n",
      " [ 6.00e+00  6.00e+00]\n",
      " [ 6.00e+00  6.00e+00]\n",
      " [ 6.00e+00  8.08e+00]\n",
      " [ 5.00e+00  5.01e+00]\n",
      " [ 5.00e+00  3.78e+00]\n",
      " [ 5.00e+00  7.59e+00]\n",
      " [ 6.00e+00  9.95e+00]\n",
      " [ 5.00e+00  3.28e+00]\n",
      " [ 5.00e+00  5.38e+00]\n",
      " [ 6.00e+00  5.23e+00]\n",
      " [ 6.00e+00 -1.35e+01]\n",
      " [ 6.00e+00 -1.26e+01]\n",
      " [ 5.00e+00  5.77e+00]\n",
      " [ 6.00e+00  2.03e+00]\n",
      " [ 5.00e+00  5.02e+00]\n",
      " [ 5.00e+00  1.07e+01]\n",
      " [ 6.00e+00 -1.12e+01]\n",
      " [ 6.00e+00  6.00e+00]\n",
      " [ 6.00e+00  1.69e+01]\n",
      " [ 6.00e+00  6.20e+01]\n",
      " [ 4.00e+00  2.51e-01]\n",
      " [ 6.00e+00 -5.22e+00]\n",
      " [ 5.00e+00  3.71e+00]\n",
      " [ 6.00e+00  6.19e+00]\n",
      " [ 5.00e+00  5.01e+00]\n",
      " [ 5.00e+00  5.00e+00]\n",
      " [ 5.00e+00  5.00e+00]\n",
      " [ 6.00e+00  9.34e+00]\n",
      " [ 6.00e+00  1.41e+01]\n",
      " [ 5.00e+00 -1.17e+00]\n",
      " [ 6.00e+00  5.20e+00]\n",
      " [ 6.00e+00 -4.27e+00]\n",
      " [ 6.00e+00  4.61e+00]\n",
      " [ 5.00e+00  1.97e+01]\n",
      " [ 6.00e+00  1.08e+02]\n",
      " [ 5.00e+00  5.01e+00]\n",
      " [ 5.00e+00  8.96e+00]\n",
      " [ 5.00e+00  2.46e+00]\n",
      " [ 5.00e+00  6.57e+00]\n",
      " [ 6.00e+00  3.19e+01]\n",
      " [ 4.00e+00  5.34e+00]\n",
      " [ 5.00e+00  5.82e+00]\n",
      " [ 7.00e+00  6.86e+00]\n",
      " [ 6.00e+00  1.69e+01]\n",
      " [ 6.00e+00  7.79e+00]\n",
      " [ 5.00e+00  6.20e+00]\n",
      " [ 6.00e+00  5.28e+00]\n",
      " [ 5.00e+00 -1.76e+01]\n",
      " [ 8.00e+00  9.81e+01]\n",
      " [ 6.00e+00  2.44e+01]\n",
      " [ 6.00e+00  7.72e+00]\n",
      " [ 6.00e+00  1.44e+01]\n",
      " [ 5.00e+00  2.12e+00]\n",
      " [ 5.00e+00 -1.92e+00]\n",
      " [ 5.00e+00  2.12e+00]\n",
      " [ 5.00e+00 -1.06e+01]\n",
      " [ 7.00e+00  6.70e+00]\n",
      " [ 5.00e+00  5.03e+00]\n",
      " [ 6.00e+00  6.01e+00]\n",
      " [ 5.00e+00  6.96e+00]\n",
      " [ 7.00e+00  7.61e+00]\n",
      " [ 5.00e+00 -9.20e+01]\n",
      " [ 6.00e+00  5.71e+00]\n",
      " [ 6.00e+00  1.26e+00]\n",
      " [ 6.00e+00  5.44e+00]\n",
      " [ 7.00e+00  1.99e+01]\n",
      " [ 6.00e+00  1.19e+01]\n",
      " [ 6.00e+00  5.97e+00]\n",
      " [ 5.00e+00  6.75e+00]\n",
      " [ 7.00e+00  3.11e+01]\n",
      " [ 5.00e+00  2.44e+02]\n",
      " [ 5.00e+00  1.11e+01]\n",
      " [ 6.00e+00 -1.88e+01]\n",
      " [ 6.00e+00  6.94e+00]\n",
      " [ 5.00e+00  1.69e+01]\n",
      " [ 5.00e+00  2.78e+01]\n",
      " [ 5.00e+00  4.65e+00]\n",
      " [ 6.00e+00  8.41e+00]\n",
      " [ 6.00e+00  8.75e+00]\n",
      " [ 6.00e+00  7.84e+00]\n",
      " [ 6.00e+00  3.43e+00]\n",
      " [ 6.00e+00 -3.81e+00]\n",
      " [ 6.00e+00  6.00e+00]\n",
      " [ 5.00e+00  1.57e+01]\n",
      " [ 6.00e+00  6.00e+00]\n",
      " [ 5.00e+00  4.25e+01]\n",
      " [ 8.00e+00 -7.82e+00]\n",
      " [ 5.00e+00  5.00e+00]\n",
      " [ 6.00e+00  6.00e+00]\n",
      " [ 5.00e+00  5.02e+00]\n",
      " [ 6.00e+00  1.08e+01]\n",
      " [ 5.00e+00  1.91e+01]\n",
      " [ 4.00e+00  5.80e+00]\n",
      " [ 6.00e+00  6.01e+00]\n",
      " [ 7.00e+00  7.61e+00]\n",
      " [ 6.00e+00  6.01e+00]\n",
      " [ 5.00e+00  5.00e+00]\n",
      " [ 6.00e+00  6.33e+00]\n",
      " [ 6.00e+00  5.93e+00]\n",
      " [ 5.00e+00  2.32e+01]\n",
      " [ 5.00e+00 -1.06e+01]\n",
      " [ 5.00e+00  5.65e+00]\n",
      " [ 6.00e+00  6.00e+00]\n",
      " [ 6.00e+00  2.42e+00]\n",
      " [ 3.00e+00 -6.17e+00]\n",
      " [ 6.00e+00  4.67e+00]\n",
      " [ 6.00e+00  2.53e+00]\n",
      " [ 6.00e+00  2.47e+01]\n",
      " [ 6.00e+00  6.88e+00]\n",
      " [ 6.00e+00  4.18e+00]\n",
      " [ 6.00e+00  2.67e+01]\n",
      " [ 6.00e+00 -6.85e+00]\n",
      " [ 5.00e+00  5.00e+00]\n",
      " [ 5.00e+00  5.01e+00]\n",
      " [ 6.00e+00  6.00e+00]\n",
      " [ 6.00e+00  1.55e+00]\n",
      " [ 6.00e+00  6.01e+00]\n",
      " [ 6.00e+00  4.93e+00]\n",
      " [ 5.00e+00  1.48e+01]\n",
      " [ 5.00e+00  4.97e+00]\n",
      " [ 5.00e+00  4.96e+00]\n",
      " [ 8.00e+00  5.44e+00]\n",
      " [ 5.00e+00  6.70e+01]\n",
      " [ 6.00e+00 -2.71e-01]\n",
      " [ 6.00e+00 -2.68e+02]\n",
      " [ 7.00e+00  3.59e+00]\n",
      " [ 7.00e+00  6.99e+00]\n",
      " [ 5.00e+00  1.26e+01]\n",
      " [ 5.00e+00  1.13e+01]\n",
      " [ 7.00e+00  6.01e-01]\n",
      " [ 5.00e+00  5.17e+00]\n",
      " [ 6.00e+00  1.04e+00]\n",
      " [ 6.00e+00  2.88e+01]\n",
      " [ 4.00e+00  2.07e+00]\n",
      " [ 5.00e+00 -8.66e+00]\n",
      " [ 6.00e+00  7.72e+00]\n",
      " [ 5.00e+00  5.00e+00]\n",
      " [ 5.00e+00  2.48e+00]\n",
      " [ 6.00e+00  6.91e+00]\n",
      " [ 5.00e+00  4.01e+01]\n",
      " [ 6.00e+00 -8.01e+00]\n",
      " [ 6.00e+00  6.01e+00]\n",
      " [ 5.00e+00  5.00e+00]\n",
      " [ 5.00e+00  4.43e+00]\n",
      " [ 5.00e+00  5.81e+00]\n",
      " [ 5.00e+00  9.14e+00]\n",
      " [ 5.00e+00  4.66e+00]\n",
      " [ 5.00e+00 -8.27e+00]\n",
      " [ 5.00e+00  1.90e+00]\n",
      " [ 6.00e+00  5.82e+00]\n",
      " [ 6.00e+00  5.98e+00]\n",
      " [ 5.00e+00  5.67e+00]\n",
      " [ 6.00e+00  1.95e+01]\n",
      " [ 6.00e+00  3.33e+00]\n",
      " [ 5.00e+00  1.27e+00]\n",
      " [ 6.00e+00  7.17e+00]\n",
      " [ 7.00e+00  3.45e+00]\n",
      " [ 6.00e+00  5.97e+00]\n",
      " [ 6.00e+00  1.47e+01]\n",
      " [ 6.00e+00 -7.59e+01]\n",
      " [ 5.00e+00  4.43e+01]\n",
      " [ 5.00e+00  8.75e+01]\n",
      " [ 5.00e+00  7.96e+00]\n",
      " [ 6.00e+00  2.95e+00]\n",
      " [ 5.00e+00 -1.78e+01]\n",
      " [ 6.00e+00  2.69e+01]\n",
      " [ 6.00e+00  5.99e+00]\n",
      " [ 5.00e+00  1.46e+01]\n",
      " [ 5.00e+00  4.97e+00]\n",
      " [ 5.00e+00  9.61e+00]\n",
      " [ 6.00e+00  2.36e+00]\n",
      " [ 6.00e+00  2.18e+01]\n",
      " [ 5.00e+00  7.45e+00]\n",
      " [ 6.00e+00  1.74e+00]\n",
      " [ 6.00e+00  4.26e+00]\n",
      " [ 6.00e+00  1.03e+01]\n",
      " [ 3.00e+00  4.02e+01]\n",
      " [ 6.00e+00  5.23e+00]\n",
      " [ 5.00e+00  5.00e+00]\n",
      " [ 5.00e+00  5.78e+00]\n",
      " [ 7.00e+00 -1.72e+00]\n",
      " [ 6.00e+00  1.95e+01]\n",
      " [ 7.00e+00 -2.78e-01]\n",
      " [ 6.00e+00  4.35e+00]\n",
      " [ 6.00e+00  7.90e+00]\n",
      " [ 7.00e+00  3.78e+00]\n",
      " [ 7.00e+00  7.00e+00]\n",
      " [ 6.00e+00  3.80e+00]\n",
      " [ 5.00e+00  4.97e+00]\n",
      " [ 6.00e+00  7.48e+00]\n",
      " [ 5.00e+00 -4.74e+00]\n",
      " [ 5.00e+00  3.89e+00]\n",
      " [ 6.00e+00  5.88e+00]\n",
      " [ 5.00e+00  1.53e+01]\n",
      " [ 5.00e+00  5.02e+00]\n",
      " [ 5.00e+00  8.64e+00]\n",
      " [ 5.00e+00  5.00e+00]\n",
      " [ 6.00e+00  2.22e+01]\n",
      " [ 5.00e+00  1.39e+01]\n",
      " [ 5.00e+00  9.78e+00]\n",
      " [ 5.00e+00  2.47e+01]\n",
      " [ 6.00e+00 -3.67e+00]\n",
      " [ 6.00e+00  3.81e+00]\n",
      " [ 5.00e+00 -6.21e-01]\n",
      " [ 5.00e+00  5.00e+00]\n",
      " [ 5.00e+00  6.99e+00]\n",
      " [ 6.00e+00  7.10e+00]\n",
      " [ 7.00e+00  7.00e+00]\n",
      " [ 5.00e+00  6.15e+00]\n",
      " [ 6.00e+00  6.00e+00]\n",
      " [ 5.00e+00  1.33e+01]\n",
      " [ 6.00e+00  6.01e+00]\n",
      " [ 5.00e+00  4.53e+00]\n",
      " [ 4.00e+00 -1.31e+00]\n",
      " [ 5.00e+00  1.93e+01]\n",
      " [ 5.00e+00 -1.05e+02]\n",
      " [ 6.00e+00  1.66e+01]\n",
      " [ 7.00e+00 -1.52e+00]\n",
      " [ 6.00e+00  2.12e+00]\n",
      " [ 5.00e+00  1.03e+01]\n",
      " [ 5.00e+00  9.31e+00]\n",
      " [ 4.00e+00 -1.15e+02]\n",
      " [ 5.00e+00  9.22e+01]\n",
      " [ 6.00e+00  2.55e+00]\n",
      " [ 7.00e+00 -1.10e+00]\n",
      " [ 6.00e+00  6.01e+00]\n",
      " [ 6.00e+00 -4.47e+00]\n",
      " [ 7.00e+00  2.60e+01]\n",
      " [ 5.00e+00 -1.91e+00]\n",
      " [ 7.00e+00 -8.31e+00]\n",
      " [ 5.00e+00  1.03e+01]\n",
      " [ 6.00e+00  2.49e+01]\n",
      " [ 6.00e+00  5.99e+00]\n",
      " [ 5.00e+00  1.93e+00]\n",
      " [ 5.00e+00  3.87e+00]\n",
      " [ 5.00e+00  4.54e+00]\n",
      " [ 6.00e+00  1.21e+01]\n",
      " [ 6.00e+00 -1.01e+01]\n",
      " [ 5.00e+00  5.02e+00]\n",
      " [ 6.00e+00 -1.58e+01]\n",
      " [ 6.00e+00  5.40e+00]\n",
      " [ 6.00e+00  1.27e+01]\n",
      " [ 5.00e+00  4.19e+00]\n",
      " [ 6.00e+00  5.97e+00]\n",
      " [ 6.00e+00  4.02e+00]\n",
      " [ 5.00e+00 -7.07e+00]\n",
      " [ 6.00e+00  1.46e+01]\n",
      " [ 5.00e+00  8.45e+00]\n",
      " [ 6.00e+00  6.00e+00]\n",
      " [ 5.00e+00  8.30e+00]\n",
      " [ 6.00e+00  6.00e+00]\n",
      " [ 6.00e+00  8.09e+00]\n",
      " [ 6.00e+00  8.40e+00]\n",
      " [ 6.00e+00 -3.25e+00]\n",
      " [ 5.00e+00  1.71e+01]\n",
      " [ 5.00e+00  5.27e+00]\n",
      " [ 6.00e+00  1.01e+01]\n",
      " [ 5.00e+00  5.00e+00]\n",
      " [ 5.00e+00 -2.60e+01]\n",
      " [ 6.00e+00  6.01e+00]\n",
      " [ 5.00e+00  5.00e+00]\n",
      " [ 5.00e+00  6.20e+00]\n",
      " [ 5.00e+00  2.48e+00]\n",
      " [ 6.00e+00 -4.00e+00]\n",
      " [ 4.00e+00  7.18e+00]\n",
      " [ 5.00e+00  6.78e+00]\n",
      " [ 4.00e+00  7.58e+00]\n",
      " [ 6.00e+00  5.79e+00]\n",
      " [ 5.00e+00  5.00e+00]\n",
      " [ 5.00e+00 -3.36e+00]\n",
      " [ 5.00e+00  5.62e+00]\n",
      " [ 8.00e+00  7.05e+01]\n",
      " [ 6.00e+00  5.99e+00]\n",
      " [ 6.00e+00  9.17e+01]\n",
      " [ 7.00e+00  7.01e+00]\n",
      " [ 6.00e+00  9.35e+00]\n",
      " [ 5.00e+00  7.77e+00]\n",
      " [ 5.00e+00 -1.14e+02]\n",
      " [ 7.00e+00  1.41e+01]\n",
      " [ 5.00e+00 -5.53e+00]\n",
      " [ 5.00e+00  5.00e+00]\n",
      " [ 5.00e+00  2.48e+00]\n",
      " [ 5.00e+00 -3.25e+00]\n",
      " [ 6.00e+00 -4.22e+01]\n",
      " [ 7.00e+00  7.00e+00]\n",
      " [ 5.00e+00  6.85e+00]\n",
      " [ 4.00e+00 -8.17e-01]\n",
      " [ 5.00e+00  7.03e+00]\n",
      " [ 5.00e+00  5.00e+00]\n",
      " [ 5.00e+00  6.36e+00]\n",
      " [ 5.00e+00  5.02e+00]\n",
      " [ 8.00e+00 -1.53e+00]\n",
      " [ 6.00e+00  5.97e+00]\n",
      " [ 5.00e+00  1.14e+01]\n",
      " [ 6.00e+00  2.20e+00]\n",
      " [ 5.00e+00 -6.00e+01]\n",
      " [ 5.00e+00 -1.37e+00]\n",
      " [ 7.00e+00  5.28e+00]\n",
      " [ 5.00e+00  7.59e+00]\n",
      " [ 6.00e+00  7.17e+00]\n",
      " [ 5.00e+00  2.86e+00]\n",
      " [ 6.00e+00  7.15e-01]\n",
      " [ 7.00e+00  1.86e+01]\n",
      " [ 5.00e+00 -2.94e+00]\n",
      " [ 6.00e+00  6.91e+00]\n",
      " [ 6.00e+00  1.29e+01]\n",
      " [ 5.00e+00  7.68e+00]\n",
      " [ 7.00e+00  7.00e+00]\n",
      " [ 5.00e+00  4.17e+00]\n",
      " [ 6.00e+00  2.22e+01]\n",
      " [ 5.00e+00  1.91e+01]\n",
      " [ 7.00e+00  3.26e+01]\n",
      " [ 5.00e+00 -2.88e+00]\n",
      " [ 5.00e+00  5.75e+00]\n",
      " [ 6.00e+00  2.12e+01]\n",
      " [ 7.00e+00  6.80e+00]\n",
      " [ 6.00e+00  2.97e+00]\n",
      " [ 4.00e+00  1.03e+01]\n",
      " [ 6.00e+00  4.02e-01]\n",
      " [ 6.00e+00  6.96e+00]\n",
      " [ 4.00e+00  9.36e+00]\n",
      " [ 7.00e+00 -1.03e+01]\n",
      " [ 6.00e+00  8.69e+00]\n",
      " [ 5.00e+00  1.39e+01]\n",
      " [ 5.00e+00  2.32e+01]\n",
      " [ 7.00e+00  4.69e+00]\n",
      " [ 6.00e+00  4.35e+00]\n",
      " [ 6.00e+00  7.99e+00]\n",
      " [ 6.00e+00  6.00e+00]\n",
      " [ 6.00e+00  6.01e+00]\n",
      " [ 5.00e+00  5.21e+01]\n",
      " [ 6.00e+00  4.25e+00]\n",
      " [ 6.00e+00 -1.80e+00]\n",
      " [ 6.00e+00  4.65e+00]\n",
      " [ 6.00e+00  2.01e+01]\n",
      " [ 5.00e+00  7.93e+00]\n",
      " [ 6.00e+00  1.25e+01]\n",
      " [ 7.00e+00  8.79e+00]\n",
      " [ 6.00e+00  3.34e+01]\n",
      " [ 6.00e+00  4.08e+00]\n",
      " [ 5.00e+00  5.01e+00]\n",
      " [ 7.00e+00  7.00e+00]\n",
      " [ 5.00e+00  3.68e+01]\n",
      " [ 6.00e+00  6.41e+00]\n",
      " [ 5.00e+00  1.12e+01]\n",
      " [ 5.00e+00 -2.60e+01]\n",
      " [ 7.00e+00  6.30e+01]\n",
      " [ 5.00e+00  6.19e+00]\n",
      " [ 5.00e+00  5.00e+00]\n",
      " [ 5.00e+00  6.19e+00]\n",
      " [ 5.00e+00  4.99e+00]\n",
      " [ 6.00e+00  6.13e+00]\n",
      " [ 5.00e+00  5.00e+00]\n",
      " [ 5.00e+00  7.59e+00]\n",
      " [ 6.00e+00  1.16e+01]\n",
      " [ 6.00e+00  8.35e+00]\n",
      " [ 5.00e+00  5.50e+00]\n",
      " [ 7.00e+00  7.00e+00]\n",
      " [ 6.00e+00  2.95e+00]\n",
      " [ 5.00e+00  5.00e+00]\n",
      " [ 5.00e+00  1.09e+01]\n",
      " [ 6.00e+00  5.80e+00]\n",
      " [ 6.00e+00  6.04e+00]\n",
      " [ 6.00e+00  1.69e+00]\n",
      " [ 6.00e+00 -8.10e-01]\n",
      " [ 6.00e+00  1.01e+00]\n",
      " [ 5.00e+00  4.00e+00]\n",
      " [ 5.00e+00 -2.14e+01]\n",
      " [ 6.00e+00  1.13e+01]\n",
      " [ 5.00e+00  1.18e+01]\n",
      " [ 6.00e+00  6.00e+00]\n",
      " [ 5.00e+00  5.02e+00]\n",
      " [ 5.00e+00  1.58e+01]\n",
      " [ 6.00e+00  6.14e+00]\n",
      " [ 5.00e+00  3.52e+01]\n",
      " [ 6.00e+00  6.52e+00]\n",
      " [ 5.00e+00  6.30e+00]\n",
      " [ 5.00e+00  8.64e+00]\n",
      " [ 5.00e+00  4.20e+00]\n",
      " [ 6.00e+00  1.25e+01]\n",
      " [ 6.00e+00  3.19e+01]\n",
      " [ 6.00e+00 -1.43e+01]\n",
      " [ 5.00e+00  4.82e+01]\n",
      " [ 7.00e+00  9.10e+01]\n",
      " [ 6.00e+00  6.02e+00]\n",
      " [ 5.00e+00  6.82e+00]\n",
      " [ 5.00e+00  4.99e+00]\n",
      " [ 6.00e+00  7.53e+00]\n",
      " [ 6.00e+00  6.01e+00]\n",
      " [ 6.00e+00  3.32e+01]\n",
      " [ 6.00e+00  3.80e+00]\n",
      " [ 5.00e+00  5.00e+00]\n",
      " [ 5.00e+00  9.51e-01]\n",
      " [ 5.00e+00  5.01e+00]\n",
      " [ 5.00e+00  6.85e+00]\n",
      " [ 6.00e+00 -1.50e+00]\n",
      " [ 6.00e+00  2.68e+02]\n",
      " [ 5.00e+00  1.22e+01]\n",
      " [ 7.00e+00  8.21e+00]\n",
      " [ 5.00e+00  9.24e+00]\n",
      " [ 7.00e+00  4.34e+01]\n",
      " [ 6.00e+00  2.02e+01]\n",
      " [ 6.00e+00  1.19e+01]\n",
      " [ 5.00e+00  7.20e+00]\n",
      " [ 4.00e+00  8.82e+00]\n",
      " [ 5.00e+00  6.58e-01]\n",
      " [ 6.00e+00  5.40e+00]\n",
      " [ 6.00e+00 -2.02e+00]\n",
      " [ 3.00e+00 -1.47e+01]\n",
      " [ 6.00e+00  4.16e+01]\n",
      " [ 5.00e+00  5.00e+00]\n",
      " [ 6.00e+00  3.60e+00]\n",
      " [ 5.00e+00  5.00e+00]\n",
      " [ 6.00e+00  4.55e+00]\n",
      " [ 7.00e+00 -3.02e+00]\n",
      " [ 5.00e+00  4.99e+00]\n",
      " [ 5.00e+00  1.83e+00]\n",
      " [ 5.00e+00  7.01e+00]\n",
      " [ 6.00e+00  2.30e+01]\n",
      " [ 6.00e+00  5.34e+00]\n",
      " [ 5.00e+00  5.00e+00]\n",
      " [ 5.00e+00  3.79e+00]\n",
      " [ 6.00e+00 -1.01e+01]\n",
      " [ 5.00e+00 -8.12e+00]\n",
      " [ 5.00e+00 -1.14e+01]\n",
      " [ 5.00e+00  3.32e+00]\n",
      " [ 6.00e+00  4.65e+00]\n",
      " [ 5.00e+00  6.58e-01]]\n"
     ]
    }
   ],
   "source": [
    "np.set_printoptions(precision=2)\n",
    "print(np.concatenate((Y_test.reshape(len(Y_test),1),Y_pred_test.reshape(len(Y_pred_test),1)),1))"
   ]
  },
  {
   "cell_type": "markdown",
   "metadata": {
    "colab_type": "text",
    "id": "DW7I7ZVDFNkk"
   },
   "source": [
    "## Predicting a new result with Polynomial Regression"
   ]
  },
  {
   "cell_type": "code",
   "execution_count": 243,
   "metadata": {},
   "outputs": [
    {
     "name": "stdout",
     "output_type": "stream",
     "text": [
      "      fixed acidity  volatile acidity  citric acid  residual sugar  chlorides  \\\n",
      "0               7.4             0.700         0.00             1.9      0.076   \n",
      "1               7.8             0.880         0.00             2.6      0.098   \n",
      "2               7.8             0.760         0.04             2.3      0.092   \n",
      "3              11.2             0.280         0.56             1.9      0.075   \n",
      "4               7.4             0.700         0.00             1.9      0.076   \n",
      "...             ...               ...          ...             ...        ...   \n",
      "1594            6.2             0.600         0.08             2.0      0.090   \n",
      "1595            5.9             0.550         0.10             2.2      0.062   \n",
      "1596            6.3             0.510         0.13             2.3      0.076   \n",
      "1597            5.9             0.645         0.12             2.0      0.075   \n",
      "1598            6.0             0.310         0.47             3.6      0.067   \n",
      "\n",
      "      free sulfur dioxide  total sulfur dioxide  density    pH  sulphates  \\\n",
      "0                    11.0                  34.0  0.99780  3.51       0.56   \n",
      "1                    25.0                  67.0  0.99680  3.20       0.68   \n",
      "2                    15.0                  54.0  0.99700  3.26       0.65   \n",
      "3                    17.0                  60.0  0.99800  3.16       0.58   \n",
      "4                    11.0                  34.0  0.99780  3.51       0.56   \n",
      "...                   ...                   ...      ...   ...        ...   \n",
      "1594                 32.0                  44.0  0.99490  3.45       0.58   \n",
      "1595                 39.0                  51.0  0.99512  3.52       0.76   \n",
      "1596                 29.0                  40.0  0.99574  3.42       0.75   \n",
      "1597                 32.0                  44.0  0.99547  3.57       0.71   \n",
      "1598                 18.0                  42.0  0.99549  3.39       0.66   \n",
      "\n",
      "      alcohol  \n",
      "0         9.4  \n",
      "1         9.8  \n",
      "2         9.8  \n",
      "3         9.8  \n",
      "4         9.4  \n",
      "...       ...  \n",
      "1594     10.5  \n",
      "1595     11.2  \n",
      "1596     11.0  \n",
      "1597     10.2  \n",
      "1598     11.0  \n",
      "\n",
      "[1599 rows x 11 columns]\n"
     ]
    }
   ],
   "source": [
    "print(x)"
   ]
  },
  {
   "cell_type": "code",
   "execution_count": 244,
   "metadata": {},
   "outputs": [
    {
     "data": {
      "text/plain": [
       "array([4.97])"
      ]
     },
     "execution_count": 244,
     "metadata": {},
     "output_type": "execute_result"
    }
   ],
   "source": [
    "regressor.predict(polynomialFeature.fit_transform([[7.4,0.700,0.00,1.9,0.076,11.0,34.0,0.99780,3.51,0.56,9.4]]))"
   ]
  },
  {
   "cell_type": "markdown",
   "metadata": {},
   "source": [
    "### Intercept and Coefficients"
   ]
  },
  {
   "cell_type": "code",
   "execution_count": 245,
   "metadata": {},
   "outputs": [
    {
     "data": {
      "text/plain": [
       "5507.549974622664"
      ]
     },
     "execution_count": 245,
     "metadata": {},
     "output_type": "execute_result"
    }
   ],
   "source": [
    "regressor.intercept_"
   ]
  },
  {
   "cell_type": "code",
   "execution_count": 246,
   "metadata": {},
   "outputs": [
    {
     "data": {
      "text/plain": [
       "array([ 6.28e+01,  7.55e+01,  2.03e+02, ..., -7.59e+00,  9.29e-01,\n",
       "       -1.23e-02])"
      ]
     },
     "execution_count": 246,
     "metadata": {},
     "output_type": "execute_result"
    }
   ],
   "source": [
    "regressor.coef_"
   ]
  },
  {
   "cell_type": "code",
   "execution_count": null,
   "metadata": {},
   "outputs": [],
   "source": []
  }
 ],
 "metadata": {
  "colab": {
   "authorship_tag": "ABX9TyMLrtB0Kmy82otxgYKZqyGa",
   "collapsed_sections": [],
   "name": "polynomial_regression.ipynb",
   "provenance": [],
   "toc_visible": true
  },
  "kernelspec": {
   "display_name": "Python 3",
   "language": "python",
   "name": "python3"
  },
  "language_info": {
   "codemirror_mode": {
    "name": "ipython",
    "version": 3
   },
   "file_extension": ".py",
   "mimetype": "text/x-python",
   "name": "python",
   "nbconvert_exporter": "python",
   "pygments_lexer": "ipython3",
   "version": "3.7.6"
  }
 },
 "nbformat": 4,
 "nbformat_minor": 1
}
