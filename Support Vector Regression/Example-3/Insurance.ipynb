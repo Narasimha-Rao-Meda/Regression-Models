{
 "cells": [
  {
   "cell_type": "markdown",
   "metadata": {},
   "source": [
    "### Importing basic libraries"
   ]
  },
  {
   "cell_type": "code",
   "execution_count": 1,
   "metadata": {},
   "outputs": [],
   "source": [
    "import numpy as np\n",
    "import matplotlib.pyplot as plt\n",
    "import pandas as pd\n",
    "import seaborn as sns\n",
    "import missingno as ms"
   ]
  },
  {
   "cell_type": "markdown",
   "metadata": {},
   "source": [
    "### Importing the dataset "
   ]
  },
  {
   "cell_type": "code",
   "execution_count": 2,
   "metadata": {},
   "outputs": [],
   "source": [
    "data = pd.read_csv('insurance.csv')"
   ]
  },
  {
   "cell_type": "markdown",
   "metadata": {},
   "source": [
    "### Analyze data"
   ]
  },
  {
   "cell_type": "code",
   "execution_count": 3,
   "metadata": {},
   "outputs": [
    {
     "data": {
      "text/html": [
       "<div>\n",
       "<style scoped>\n",
       "    .dataframe tbody tr th:only-of-type {\n",
       "        vertical-align: middle;\n",
       "    }\n",
       "\n",
       "    .dataframe tbody tr th {\n",
       "        vertical-align: top;\n",
       "    }\n",
       "\n",
       "    .dataframe thead th {\n",
       "        text-align: right;\n",
       "    }\n",
       "</style>\n",
       "<table border=\"1\" class=\"dataframe\">\n",
       "  <thead>\n",
       "    <tr style=\"text-align: right;\">\n",
       "      <th></th>\n",
       "      <th>age</th>\n",
       "      <th>sex</th>\n",
       "      <th>bmi</th>\n",
       "      <th>children</th>\n",
       "      <th>smoker</th>\n",
       "      <th>region</th>\n",
       "      <th>charges</th>\n",
       "    </tr>\n",
       "  </thead>\n",
       "  <tbody>\n",
       "    <tr>\n",
       "      <th>0</th>\n",
       "      <td>19</td>\n",
       "      <td>female</td>\n",
       "      <td>27.900</td>\n",
       "      <td>0</td>\n",
       "      <td>yes</td>\n",
       "      <td>southwest</td>\n",
       "      <td>16884.92400</td>\n",
       "    </tr>\n",
       "    <tr>\n",
       "      <th>1</th>\n",
       "      <td>18</td>\n",
       "      <td>male</td>\n",
       "      <td>33.770</td>\n",
       "      <td>1</td>\n",
       "      <td>no</td>\n",
       "      <td>southeast</td>\n",
       "      <td>1725.55230</td>\n",
       "    </tr>\n",
       "    <tr>\n",
       "      <th>2</th>\n",
       "      <td>28</td>\n",
       "      <td>male</td>\n",
       "      <td>33.000</td>\n",
       "      <td>3</td>\n",
       "      <td>no</td>\n",
       "      <td>southeast</td>\n",
       "      <td>4449.46200</td>\n",
       "    </tr>\n",
       "    <tr>\n",
       "      <th>3</th>\n",
       "      <td>33</td>\n",
       "      <td>male</td>\n",
       "      <td>22.705</td>\n",
       "      <td>0</td>\n",
       "      <td>no</td>\n",
       "      <td>northwest</td>\n",
       "      <td>21984.47061</td>\n",
       "    </tr>\n",
       "    <tr>\n",
       "      <th>4</th>\n",
       "      <td>32</td>\n",
       "      <td>male</td>\n",
       "      <td>28.880</td>\n",
       "      <td>0</td>\n",
       "      <td>no</td>\n",
       "      <td>northwest</td>\n",
       "      <td>3866.85520</td>\n",
       "    </tr>\n",
       "  </tbody>\n",
       "</table>\n",
       "</div>"
      ],
      "text/plain": [
       "   age     sex     bmi  children smoker     region      charges\n",
       "0   19  female  27.900         0    yes  southwest  16884.92400\n",
       "1   18    male  33.770         1     no  southeast   1725.55230\n",
       "2   28    male  33.000         3     no  southeast   4449.46200\n",
       "3   33    male  22.705         0     no  northwest  21984.47061\n",
       "4   32    male  28.880         0     no  northwest   3866.85520"
      ]
     },
     "execution_count": 3,
     "metadata": {},
     "output_type": "execute_result"
    }
   ],
   "source": [
    "data.head()"
   ]
  },
  {
   "cell_type": "code",
   "execution_count": 4,
   "metadata": {},
   "outputs": [
    {
     "data": {
      "text/html": [
       "<div>\n",
       "<style scoped>\n",
       "    .dataframe tbody tr th:only-of-type {\n",
       "        vertical-align: middle;\n",
       "    }\n",
       "\n",
       "    .dataframe tbody tr th {\n",
       "        vertical-align: top;\n",
       "    }\n",
       "\n",
       "    .dataframe thead th {\n",
       "        text-align: right;\n",
       "    }\n",
       "</style>\n",
       "<table border=\"1\" class=\"dataframe\">\n",
       "  <thead>\n",
       "    <tr style=\"text-align: right;\">\n",
       "      <th></th>\n",
       "      <th>age</th>\n",
       "      <th>sex</th>\n",
       "      <th>bmi</th>\n",
       "      <th>children</th>\n",
       "      <th>smoker</th>\n",
       "      <th>region</th>\n",
       "      <th>charges</th>\n",
       "    </tr>\n",
       "  </thead>\n",
       "  <tbody>\n",
       "    <tr>\n",
       "      <th>1333</th>\n",
       "      <td>50</td>\n",
       "      <td>male</td>\n",
       "      <td>30.97</td>\n",
       "      <td>3</td>\n",
       "      <td>no</td>\n",
       "      <td>northwest</td>\n",
       "      <td>10600.5483</td>\n",
       "    </tr>\n",
       "    <tr>\n",
       "      <th>1334</th>\n",
       "      <td>18</td>\n",
       "      <td>female</td>\n",
       "      <td>31.92</td>\n",
       "      <td>0</td>\n",
       "      <td>no</td>\n",
       "      <td>northeast</td>\n",
       "      <td>2205.9808</td>\n",
       "    </tr>\n",
       "    <tr>\n",
       "      <th>1335</th>\n",
       "      <td>18</td>\n",
       "      <td>female</td>\n",
       "      <td>36.85</td>\n",
       "      <td>0</td>\n",
       "      <td>no</td>\n",
       "      <td>southeast</td>\n",
       "      <td>1629.8335</td>\n",
       "    </tr>\n",
       "    <tr>\n",
       "      <th>1336</th>\n",
       "      <td>21</td>\n",
       "      <td>female</td>\n",
       "      <td>25.80</td>\n",
       "      <td>0</td>\n",
       "      <td>no</td>\n",
       "      <td>southwest</td>\n",
       "      <td>2007.9450</td>\n",
       "    </tr>\n",
       "    <tr>\n",
       "      <th>1337</th>\n",
       "      <td>61</td>\n",
       "      <td>female</td>\n",
       "      <td>29.07</td>\n",
       "      <td>0</td>\n",
       "      <td>yes</td>\n",
       "      <td>northwest</td>\n",
       "      <td>29141.3603</td>\n",
       "    </tr>\n",
       "  </tbody>\n",
       "</table>\n",
       "</div>"
      ],
      "text/plain": [
       "      age     sex    bmi  children smoker     region     charges\n",
       "1333   50    male  30.97         3     no  northwest  10600.5483\n",
       "1334   18  female  31.92         0     no  northeast   2205.9808\n",
       "1335   18  female  36.85         0     no  southeast   1629.8335\n",
       "1336   21  female  25.80         0     no  southwest   2007.9450\n",
       "1337   61  female  29.07         0    yes  northwest  29141.3603"
      ]
     },
     "execution_count": 4,
     "metadata": {},
     "output_type": "execute_result"
    }
   ],
   "source": [
    "data.tail()"
   ]
  },
  {
   "cell_type": "code",
   "execution_count": 5,
   "metadata": {},
   "outputs": [
    {
     "name": "stdout",
     "output_type": "stream",
     "text": [
      "<class 'pandas.core.frame.DataFrame'>\n",
      "RangeIndex: 1338 entries, 0 to 1337\n",
      "Data columns (total 7 columns):\n",
      " #   Column    Non-Null Count  Dtype  \n",
      "---  ------    --------------  -----  \n",
      " 0   age       1338 non-null   int64  \n",
      " 1   sex       1338 non-null   object \n",
      " 2   bmi       1338 non-null   float64\n",
      " 3   children  1338 non-null   int64  \n",
      " 4   smoker    1338 non-null   object \n",
      " 5   region    1338 non-null   object \n",
      " 6   charges   1338 non-null   float64\n",
      "dtypes: float64(2), int64(2), object(3)\n",
      "memory usage: 73.3+ KB\n"
     ]
    }
   ],
   "source": [
    "data.info()"
   ]
  },
  {
   "cell_type": "code",
   "execution_count": 6,
   "metadata": {},
   "outputs": [
    {
     "data": {
      "text/html": [
       "<div>\n",
       "<style scoped>\n",
       "    .dataframe tbody tr th:only-of-type {\n",
       "        vertical-align: middle;\n",
       "    }\n",
       "\n",
       "    .dataframe tbody tr th {\n",
       "        vertical-align: top;\n",
       "    }\n",
       "\n",
       "    .dataframe thead th {\n",
       "        text-align: right;\n",
       "    }\n",
       "</style>\n",
       "<table border=\"1\" class=\"dataframe\">\n",
       "  <thead>\n",
       "    <tr style=\"text-align: right;\">\n",
       "      <th></th>\n",
       "      <th>age</th>\n",
       "      <th>bmi</th>\n",
       "      <th>children</th>\n",
       "      <th>charges</th>\n",
       "    </tr>\n",
       "  </thead>\n",
       "  <tbody>\n",
       "    <tr>\n",
       "      <th>count</th>\n",
       "      <td>1338.000000</td>\n",
       "      <td>1338.000000</td>\n",
       "      <td>1338.000000</td>\n",
       "      <td>1338.000000</td>\n",
       "    </tr>\n",
       "    <tr>\n",
       "      <th>mean</th>\n",
       "      <td>39.207025</td>\n",
       "      <td>30.663397</td>\n",
       "      <td>1.094918</td>\n",
       "      <td>13270.422265</td>\n",
       "    </tr>\n",
       "    <tr>\n",
       "      <th>std</th>\n",
       "      <td>14.049960</td>\n",
       "      <td>6.098187</td>\n",
       "      <td>1.205493</td>\n",
       "      <td>12110.011237</td>\n",
       "    </tr>\n",
       "    <tr>\n",
       "      <th>min</th>\n",
       "      <td>18.000000</td>\n",
       "      <td>15.960000</td>\n",
       "      <td>0.000000</td>\n",
       "      <td>1121.873900</td>\n",
       "    </tr>\n",
       "    <tr>\n",
       "      <th>25%</th>\n",
       "      <td>27.000000</td>\n",
       "      <td>26.296250</td>\n",
       "      <td>0.000000</td>\n",
       "      <td>4740.287150</td>\n",
       "    </tr>\n",
       "    <tr>\n",
       "      <th>50%</th>\n",
       "      <td>39.000000</td>\n",
       "      <td>30.400000</td>\n",
       "      <td>1.000000</td>\n",
       "      <td>9382.033000</td>\n",
       "    </tr>\n",
       "    <tr>\n",
       "      <th>75%</th>\n",
       "      <td>51.000000</td>\n",
       "      <td>34.693750</td>\n",
       "      <td>2.000000</td>\n",
       "      <td>16639.912515</td>\n",
       "    </tr>\n",
       "    <tr>\n",
       "      <th>max</th>\n",
       "      <td>64.000000</td>\n",
       "      <td>53.130000</td>\n",
       "      <td>5.000000</td>\n",
       "      <td>63770.428010</td>\n",
       "    </tr>\n",
       "  </tbody>\n",
       "</table>\n",
       "</div>"
      ],
      "text/plain": [
       "               age          bmi     children       charges\n",
       "count  1338.000000  1338.000000  1338.000000   1338.000000\n",
       "mean     39.207025    30.663397     1.094918  13270.422265\n",
       "std      14.049960     6.098187     1.205493  12110.011237\n",
       "min      18.000000    15.960000     0.000000   1121.873900\n",
       "25%      27.000000    26.296250     0.000000   4740.287150\n",
       "50%      39.000000    30.400000     1.000000   9382.033000\n",
       "75%      51.000000    34.693750     2.000000  16639.912515\n",
       "max      64.000000    53.130000     5.000000  63770.428010"
      ]
     },
     "execution_count": 6,
     "metadata": {},
     "output_type": "execute_result"
    }
   ],
   "source": [
    "data.describe()"
   ]
  },
  {
   "cell_type": "code",
   "execution_count": 7,
   "metadata": {},
   "outputs": [
    {
     "data": {
      "text/html": [
       "<div>\n",
       "<style scoped>\n",
       "    .dataframe tbody tr th:only-of-type {\n",
       "        vertical-align: middle;\n",
       "    }\n",
       "\n",
       "    .dataframe tbody tr th {\n",
       "        vertical-align: top;\n",
       "    }\n",
       "\n",
       "    .dataframe thead th {\n",
       "        text-align: right;\n",
       "    }\n",
       "</style>\n",
       "<table border=\"1\" class=\"dataframe\">\n",
       "  <thead>\n",
       "    <tr style=\"text-align: right;\">\n",
       "      <th></th>\n",
       "      <th>age</th>\n",
       "      <th>bmi</th>\n",
       "      <th>children</th>\n",
       "      <th>charges</th>\n",
       "    </tr>\n",
       "  </thead>\n",
       "  <tbody>\n",
       "    <tr>\n",
       "      <th>age</th>\n",
       "      <td>1.000000</td>\n",
       "      <td>0.109272</td>\n",
       "      <td>0.042469</td>\n",
       "      <td>0.299008</td>\n",
       "    </tr>\n",
       "    <tr>\n",
       "      <th>bmi</th>\n",
       "      <td>0.109272</td>\n",
       "      <td>1.000000</td>\n",
       "      <td>0.012759</td>\n",
       "      <td>0.198341</td>\n",
       "    </tr>\n",
       "    <tr>\n",
       "      <th>children</th>\n",
       "      <td>0.042469</td>\n",
       "      <td>0.012759</td>\n",
       "      <td>1.000000</td>\n",
       "      <td>0.067998</td>\n",
       "    </tr>\n",
       "    <tr>\n",
       "      <th>charges</th>\n",
       "      <td>0.299008</td>\n",
       "      <td>0.198341</td>\n",
       "      <td>0.067998</td>\n",
       "      <td>1.000000</td>\n",
       "    </tr>\n",
       "  </tbody>\n",
       "</table>\n",
       "</div>"
      ],
      "text/plain": [
       "               age       bmi  children   charges\n",
       "age       1.000000  0.109272  0.042469  0.299008\n",
       "bmi       0.109272  1.000000  0.012759  0.198341\n",
       "children  0.042469  0.012759  1.000000  0.067998\n",
       "charges   0.299008  0.198341  0.067998  1.000000"
      ]
     },
     "execution_count": 7,
     "metadata": {},
     "output_type": "execute_result"
    }
   ],
   "source": [
    "data.corr()"
   ]
  },
  {
   "cell_type": "code",
   "execution_count": 8,
   "metadata": {},
   "outputs": [
    {
     "data": {
      "text/plain": [
       "(1338, 7)"
      ]
     },
     "execution_count": 8,
     "metadata": {},
     "output_type": "execute_result"
    }
   ],
   "source": [
    "data.shape"
   ]
  },
  {
   "cell_type": "markdown",
   "metadata": {},
   "source": [
    "### Visualize the data"
   ]
  },
  {
   "cell_type": "code",
   "execution_count": 10,
   "metadata": {},
   "outputs": [
    {
     "data": {
      "text/plain": [
       "<seaborn.axisgrid.JointGrid at 0x284388b7148>"
      ]
     },
     "execution_count": 10,
     "metadata": {},
     "output_type": "execute_result"
    },
    {
     "data": {
      "image/png": "[encoded data removed]",
      "text/plain": [
       "<Figure size 432x432 with 3 Axes>"
      ]
     },
     "metadata": {
      "needs_background": "light"
     },
     "output_type": "display_data"
    }
   ],
   "source": [
    "sns.jointplot(x='bmi',y='charges',data=data)"
   ]
  },
  {
   "cell_type": "code",
   "execution_count": 11,
   "metadata": {},
   "outputs": [
    {
     "data": {
      "text/plain": [
       "<matplotlib.axes._subplots.AxesSubplot at 0x284389cddc8>"
      ]
     },
     "execution_count": 11,
     "metadata": {},
     "output_type": "execute_result"
    },
    {
     "data": {
      "image/png": "[encoded data removed]",
      "text/plain": [
       "<Figure size 432x288 with 1 Axes>"
      ]
     },
     "metadata": {
      "needs_background": "light"
     },
     "output_type": "display_data"
    }
   ],
   "source": [
    "sns.distplot([data['age']])"
   ]
  },
  {
   "cell_type": "code",
   "execution_count": 12,
   "metadata": {},
   "outputs": [
    {
     "data": {
      "text/plain": [
       "<matplotlib.axes._subplots.AxesSubplot at 0x28438b8b488>"
      ]
     },
     "execution_count": 12,
     "metadata": {},
     "output_type": "execute_result"
    },
    {
     "data": {
      "image/png": "[encoded data removed]",
      "text/plain": [
       "<Figure size 432x288 with 2 Axes>"
      ]
     },
     "metadata": {
      "needs_background": "light"
     },
     "output_type": "display_data"
    }
   ],
   "source": [
    "sns.heatmap(data.corr(),annot=True,cmap=\"coolwarm\")"
   ]
  },
  {
   "cell_type": "code",
   "execution_count": 14,
   "metadata": {},
   "outputs": [
    {
     "data": {
      "text/plain": [
       "<matplotlib.axes._subplots.AxesSubplot at 0x28438d9ef08>"
      ]
     },
     "execution_count": 14,
     "metadata": {},
     "output_type": "execute_result"
    },
    {
     "data": {
      "image/png": "[encoded data removed]",
      "text/plain": [
       "<Figure size 432x288 with 1 Axes>"
      ]
     },
     "metadata": {
      "needs_background": "light"
     },
     "output_type": "display_data"
    }
   ],
   "source": [
    "sns.countplot(data['children'])"
   ]
  },
  {
   "cell_type": "code",
   "execution_count": 15,
   "metadata": {},
   "outputs": [
    {
     "data": {
      "text/plain": [
       "<matplotlib.axes._subplots.AxesSubplot at 0x28438e12388>"
      ]
     },
     "execution_count": 15,
     "metadata": {},
     "output_type": "execute_result"
    },
    {
     "data": {
      "image/png": "[encoded data removed]",
      "text/plain": [
       "<Figure size 432x288 with 1 Axes>"
      ]
     },
     "metadata": {
      "needs_background": "light"
     },
     "output_type": "display_data"
    }
   ],
   "source": [
    "sns.swarmplot(x='smoker',y='charges',data=data)"
   ]
  },
  {
   "cell_type": "code",
   "execution_count": 16,
   "metadata": {},
   "outputs": [
    {
     "data": {
      "text/plain": [
       "<matplotlib.axes._subplots.AxesSubplot at 0x28438e715c8>"
      ]
     },
     "execution_count": 16,
     "metadata": {},
     "output_type": "execute_result"
    },
    {
     "data": {
      "image/png": "[encoded data removed]",
      "text/plain": [
       "<Figure size 432x288 with 1 Axes>"
      ]
     },
     "metadata": {
      "needs_background": "light"
     },
     "output_type": "display_data"
    }
   ],
   "source": [
    "sns.countplot(data['smoker'])"
   ]
  },
  {
   "cell_type": "code",
   "execution_count": 17,
   "metadata": {},
   "outputs": [
    {
     "data": {
      "text/plain": [
       "<matplotlib.axes._subplots.AxesSubplot at 0x284386fb708>"
      ]
     },
     "execution_count": 17,
     "metadata": {},
     "output_type": "execute_result"
    },
    {
     "data": {
      "image/png": "[encoded data removed]",
      "text/plain": [
       "<Figure size 432x288 with 1 Axes>"
      ]
     },
     "metadata": {
      "needs_background": "light"
     },
     "output_type": "display_data"
    }
   ],
   "source": [
    "sns.countplot(data['sex'])"
   ]
  },
  {
   "cell_type": "code",
   "execution_count": 18,
   "metadata": {},
   "outputs": [
    {
     "data": {
      "text/plain": [
       "<matplotlib.axes._subplots.AxesSubplot at 0x284387870c8>"
      ]
     },
     "execution_count": 18,
     "metadata": {},
     "output_type": "execute_result"
    },
    {
     "data": {
      "image/png": "[encoded data removed]",
      "text/plain": [
       "<Figure size 432x288 with 1 Axes>"
      ]
     },
     "metadata": {
      "needs_background": "light"
     },
     "output_type": "display_data"
    }
   ],
   "source": [
    "sns.swarmplot(x='sex',y='charges',data=data)"
   ]
  },
  {
   "cell_type": "markdown",
   "metadata": {},
   "source": [
    "### Cleaning data"
   ]
  },
  {
   "cell_type": "code",
   "execution_count": 19,
   "metadata": {},
   "outputs": [
    {
     "data": {
      "text/plain": [
       "<matplotlib.axes._subplots.AxesSubplot at 0x28438eb3d08>"
      ]
     },
     "execution_count": 19,
     "metadata": {},
     "output_type": "execute_result"
    },
    {
     "data": {
      "image/png": "[encoded data removed]",
      "text/plain": [
       "<Figure size 1800x720 with 2 Axes>"
      ]
     },
     "metadata": {
      "needs_background": "light"
     },
     "output_type": "display_data"
    }
   ],
   "source": [
    "ms.matrix(data)"
   ]
  },
  {
   "cell_type": "markdown",
   "metadata": {},
   "source": [
    "### Categorical Conversion"
   ]
  },
  {
   "cell_type": "code",
   "execution_count": 20,
   "metadata": {},
   "outputs": [
    {
     "name": "stdout",
     "output_type": "stream",
     "text": [
      "<class 'pandas.core.frame.DataFrame'>\n",
      "RangeIndex: 1338 entries, 0 to 1337\n",
      "Data columns (total 7 columns):\n",
      " #   Column    Non-Null Count  Dtype  \n",
      "---  ------    --------------  -----  \n",
      " 0   age       1338 non-null   int64  \n",
      " 1   sex       1338 non-null   object \n",
      " 2   bmi       1338 non-null   float64\n",
      " 3   children  1338 non-null   int64  \n",
      " 4   smoker    1338 non-null   object \n",
      " 5   region    1338 non-null   object \n",
      " 6   charges   1338 non-null   float64\n",
      "dtypes: float64(2), int64(2), object(3)\n",
      "memory usage: 73.3+ KB\n"
     ]
    }
   ],
   "source": [
    "data.info()"
   ]
  },
  {
   "cell_type": "code",
   "execution_count": 21,
   "metadata": {},
   "outputs": [],
   "source": [
    "x = data.drop('charges',axis=1)\n",
    "y = data['charges']"
   ]
  },
  {
   "cell_type": "code",
   "execution_count": 22,
   "metadata": {},
   "outputs": [
    {
     "name": "stdout",
     "output_type": "stream",
     "text": [
      "<class 'pandas.core.frame.DataFrame'>\n",
      "RangeIndex: 1338 entries, 0 to 1337\n",
      "Data columns (total 6 columns):\n",
      " #   Column    Non-Null Count  Dtype  \n",
      "---  ------    --------------  -----  \n",
      " 0   age       1338 non-null   int64  \n",
      " 1   sex       1338 non-null   object \n",
      " 2   bmi       1338 non-null   float64\n",
      " 3   children  1338 non-null   int64  \n",
      " 4   smoker    1338 non-null   object \n",
      " 5   region    1338 non-null   object \n",
      "dtypes: float64(1), int64(2), object(3)\n",
      "memory usage: 62.8+ KB\n"
     ]
    }
   ],
   "source": [
    "x.info()"
   ]
  },
  {
   "cell_type": "code",
   "execution_count": 23,
   "metadata": {},
   "outputs": [],
   "source": [
    "from sklearn.compose import ColumnTransformer\n",
    "from sklearn.preprocessing import OneHotEncoder\n",
    "ct = ColumnTransformer(transformers=[('encoder',OneHotEncoder(),[1])],remainder='passthrough')\n",
    "x = ct.fit_transform(x)"
   ]
  },
  {
   "cell_type": "code",
   "execution_count": 24,
   "metadata": {},
   "outputs": [
    {
     "name": "stdout",
     "output_type": "stream",
     "text": [
      "[1.0 0.0 19 27.9 0 'yes' 'southwest']\n"
     ]
    }
   ],
   "source": [
    "print(x[0])"
   ]
  },
  {
   "cell_type": "code",
   "execution_count": 25,
   "metadata": {},
   "outputs": [],
   "source": [
    "from sklearn.compose import ColumnTransformer\n",
    "from sklearn.preprocessing import OneHotEncoder\n",
    "ct = ColumnTransformer(transformers=[('encoder',OneHotEncoder(),[-2])],remainder='passthrough')\n",
    "x = ct.fit_transform(x)"
   ]
  },
  {
   "cell_type": "code",
   "execution_count": 26,
   "metadata": {},
   "outputs": [
    {
     "name": "stdout",
     "output_type": "stream",
     "text": [
      "[0.0 1.0 1.0 0.0 19 27.9 0 'southwest']\n"
     ]
    }
   ],
   "source": [
    "print(x[0])"
   ]
  },
  {
   "cell_type": "code",
   "execution_count": 27,
   "metadata": {},
   "outputs": [],
   "source": [
    "from sklearn.compose import ColumnTransformer\n",
    "from sklearn.preprocessing import OneHotEncoder\n",
    "ct = ColumnTransformer(transformers=[('encoder',OneHotEncoder(),[-1])],remainder='passthrough')\n",
    "x = ct.fit_transform(x)"
   ]
  },
  {
   "cell_type": "code",
   "execution_count": 28,
   "metadata": {},
   "outputs": [
    {
     "name": "stdout",
     "output_type": "stream",
     "text": [
      "[0.0 0.0 0.0 1.0 0.0 1.0 1.0 0.0 19 27.9 0]\n"
     ]
    }
   ],
   "source": [
    "print(x[0])"
   ]
  },
  {
   "cell_type": "markdown",
   "metadata": {},
   "source": [
    "### train_test_split"
   ]
  },
  {
   "cell_type": "code",
   "execution_count": 29,
   "metadata": {},
   "outputs": [],
   "source": [
    "from sklearn.model_selection import train_test_split"
   ]
  },
  {
   "cell_type": "code",
   "execution_count": 30,
   "metadata": {},
   "outputs": [],
   "source": [
    "X_train, X_test, Y_train, Y_test = train_test_split(x,y,test_size=0.3,random_state=1)"
   ]
  },
  {
   "cell_type": "markdown",
   "metadata": {},
   "source": [
    "### Feature Scaling"
   ]
  },
  {
   "cell_type": "code",
   "execution_count": 31,
   "metadata": {},
   "outputs": [],
   "source": [
    "from sklearn.preprocessing import StandardScaler"
   ]
  },
  {
   "cell_type": "code",
   "execution_count": 32,
   "metadata": {},
   "outputs": [],
   "source": [
    "sc_x = StandardScaler()\n",
    "sc_y = StandardScaler()"
   ]
  },
  {
   "cell_type": "code",
   "execution_count": 33,
   "metadata": {},
   "outputs": [],
   "source": [
    "X_train = sc_x.fit_transform(X_train)"
   ]
  },
  {
   "cell_type": "code",
   "execution_count": 34,
   "metadata": {},
   "outputs": [],
   "source": [
    "Y_train = np.array(Y_train)\n",
    "Y_train = Y_train.reshape(len(Y_train),1)\n",
    "Y_train = sc_y.fit_transform(Y_train)"
   ]
  },
  {
   "cell_type": "markdown",
   "metadata": {},
   "source": [
    "### Training the data"
   ]
  },
  {
   "cell_type": "code",
   "execution_count": 35,
   "metadata": {},
   "outputs": [],
   "source": [
    "from sklearn.svm import SVR"
   ]
  },
  {
   "cell_type": "code",
   "execution_count": 36,
   "metadata": {},
   "outputs": [],
   "source": [
    "regressor = SVR(kernel='rbf')"
   ]
  },
  {
   "cell_type": "code",
   "execution_count": 37,
   "metadata": {},
   "outputs": [
    {
     "name": "stderr",
     "output_type": "stream",
     "text": [
      "C:\\ProgramData\\Anaconda3\\lib\\site-packages\\sklearn\\utils\\validation.py:760: DataConversionWarning: A column-vector y was passed when a 1d array was expected. Please change the shape of y to (n_samples, ), for example using ravel().\n",
      "  y = column_or_1d(y, warn=True)\n"
     ]
    },
    {
     "data": {
      "text/plain": [
       "SVR(C=1.0, cache_size=200, coef0=0.0, degree=3, epsilon=0.1, gamma='scale',\n",
       "    kernel='rbf', max_iter=-1, shrinking=True, tol=0.001, verbose=False)"
      ]
     },
     "execution_count": 37,
     "metadata": {},
     "output_type": "execute_result"
    }
   ],
   "source": [
    "regressor.fit(X_train,Y_train)"
   ]
  },
  {
   "cell_type": "markdown",
   "metadata": {},
   "source": [
    "### Predicting the test dataset"
   ]
  },
  {
   "cell_type": "code",
   "execution_count": 38,
   "metadata": {},
   "outputs": [],
   "source": [
    "y_pred = sc_y.inverse_transform(regressor.predict(sc_x.transform(X_test)))"
   ]
  },
  {
   "cell_type": "markdown",
   "metadata": {},
   "source": [
    "### Results"
   ]
  },
  {
   "cell_type": "code",
   "execution_count": 39,
   "metadata": {},
   "outputs": [],
   "source": [
    "Y_test = np.array(Y_test)\n",
    "Y_test = Y_test.reshape(len(Y_test),1)\n",
    "y_pred = np.array(y_pred)\n",
    "y_pred = y_pred.reshape(len(y_pred),1)"
   ]
  },
  {
   "cell_type": "code",
   "execution_count": 40,
   "metadata": {},
   "outputs": [],
   "source": [
    "np.set_printoptions(precision=2)"
   ]
  },
  {
   "cell_type": "code",
   "execution_count": 41,
   "metadata": {},
   "outputs": [
    {
     "name": "stdout",
     "output_type": "stream",
     "text": [
      "[[ 3254.32  1646.43]\n",
      " [12507.96 11353.23]\n",
      " [10021.21  8798.59]\n",
      " [11632.63 10381.48]\n",
      " [ 2721.16  2103.08]\n",
      " [34060.96 38746.36]\n",
      " [10517.36  9304.7 ]\n",
      " [12441.65 11658.12]\n",
      " [ 3706.39  3070.81]\n",
      " [22686.5  19539.24]\n",
      " [13661.38 12629.9 ]\n",
      " [12870.14 11538.42]\n",
      " [ 7424.87  6338.08]\n",
      " [ 8100.69  7050.64]\n",
      " [ 2377.11  1137.47]\n",
      " [10005.91  8968.33]\n",
      " [ 4814.82 21984.47]\n",
      " [ 7406.02  6414.18]\n",
      " [13863.04 28287.9 ]\n",
      " [14328.98 13462.52]\n",
      " [10964.61  9722.77]\n",
      " [36847.71 40932.43]\n",
      " [ 9260.45  8026.67]\n",
      " [ 9686.06  8444.47]\n",
      " [ 3426.88  2203.47]\n",
      " [ 7602.68  6664.69]\n",
      " [ 9532.29  8606.22]\n",
      " [ 9467.72  8283.68]\n",
      " [ 6123.35  5375.04]\n",
      " [ 4250.1   3645.09]\n",
      " [12807.77 11674.13]\n",
      " [ 5699.38 11737.85]\n",
      " [22866.28 24873.38]\n",
      " [24720.95 33750.29]\n",
      " [23778.04 24180.93]\n",
      " [11075.63  9863.47]\n",
      " [37187.47 36837.47]\n",
      " [16984.75 17942.11]\n",
      " [13004.41 11856.41]\n",
      " [36113.4  39725.52]\n",
      " [ 4780.2   4349.46]\n",
      " [12853.12 11743.93]\n",
      " [11907.07 19749.38]\n",
      " [13476.51 12347.17]\n",
      " [ 6005.13  4931.65]\n",
      " [13508.98 30260.  ]\n",
      " [ 3050.6  27724.29]\n",
      " [30462.5  34672.15]\n",
      " [11354.1   9644.25]\n",
      " [13928.45 14394.4 ]\n",
      " [13528.6  12557.61]\n",
      " [13130.24 11881.36]\n",
      " [ 2994.93  2352.97]\n",
      " [10340.91  9101.8 ]\n",
      " [22955.94 17178.68]\n",
      " [ 5157.41  3994.18]\n",
      " [32587.13 40941.29]\n",
      " [13642.47 12644.59]\n",
      " [ 5365.33 22395.74]\n",
      " [ 2266.11  1149.4 ]\n",
      " [ 4155.45  3366.67]\n",
      " [14094.93 13143.34]\n",
      " [23113.61 18328.24]\n",
      " [ 3568.94  2690.11]\n",
      " [13821.24 12741.17]\n",
      " [ 9920.72  8765.25]\n",
      " [11351.7  10264.44]\n",
      " [13006.31 22192.44]\n",
      " [ 3945.29  2709.24]\n",
      " [14563.11 14571.89]\n",
      " [40587.66 60021.4 ]\n",
      " [43827.67 58571.07]\n",
      " [ 3002.27  1743.21]\n",
      " [12885.27 12479.71]\n",
      " [14201.36 13352.1 ]\n",
      " [43777.05 41034.22]\n",
      " [ 3626.57  2789.06]\n",
      " [ 3659.82  2867.12]\n",
      " [12121.44 11070.53]\n",
      " [11552.9  10493.95]\n",
      " [ 4869.82  3167.46]\n",
      " [13419.58 12269.69]\n",
      " [12093.71 10942.13]\n",
      " [ 2881.88  1977.82]\n",
      " [39214.87 39125.33]\n",
      " [42339.24 42112.24]\n",
      " [ 8132.56  7045.5 ]\n",
      " [46301.17 46200.99]\n",
      " [11594.24 10370.91]\n",
      " [ 8889.56  7749.16]\n",
      " [28451.53 20234.85]\n",
      " [23884.94 24106.91]\n",
      " [14916.52 13919.82]\n",
      " [ 9840.86  8871.15]\n",
      " [ 2450.48  1628.47]\n",
      " [10702.04  9487.64]\n",
      " [11015.98  9861.02]\n",
      " [13488.94 12265.51]\n",
      " [13226.89 12235.84]\n",
      " [ 7482.15  6402.29]\n",
      " [12504.53 11356.66]\n",
      " [10421.7  15817.99]\n",
      " [15300.65 18259.22]\n",
      " [31914.26 34779.61]\n",
      " [24200.11 27037.91]\n",
      " [27622.65 18033.97]\n",
      " [ 2908.92  1737.38]\n",
      " [ 8414.23  7441.05]\n",
      " [ 2938.1   2219.45]\n",
      " [12196.85 11286.54]\n",
      " [ 5445.38  4415.16]\n",
      " [ 4496.7   3981.98]\n",
      " [ 2486.89  1632.04]\n",
      " [16474.15 15555.19]\n",
      " [ 3710.69 12609.89]\n",
      " [ 2297.52  1253.94]\n",
      " [ 9456.3   6666.24]\n",
      " [14901.34 14254.61]\n",
      " [ 8612.76 19496.72]\n",
      " [ 3270.07  2261.57]\n",
      " [10148.85  8932.08]\n",
      " [11686.62 10736.87]\n",
      " [ 6617.36  5976.83]\n",
      " [ 8399.15  7147.1 ]\n",
      " [40427.02 43813.87]\n",
      " [10645.5   9563.03]\n",
      " [12964.96 13047.33]\n",
      " [21475.71 19362.  ]\n",
      " [44712.38 43896.38]\n",
      " [ 8718.07  7740.34]\n",
      " [35861.08 36307.8 ]\n",
      " [ 2596.92  1832.09]\n",
      " [ 8312.86  7144.86]\n",
      " [39881.97 38282.75]\n",
      " [ 8373.07 24603.05]\n",
      " [ 2862.03  1731.68]\n",
      " [ 2503.51  1632.56]\n",
      " [ 2814.14  1631.82]\n",
      " [11647.43  9991.04]\n",
      " [ 9242.81  7935.29]\n",
      " [14289.25 14043.48]\n",
      " [ 6973.18  5934.38]\n",
      " [22285.67 18972.49]\n",
      " [15048.03 14313.85]\n",
      " [14233.65 13607.37]\n",
      " [11780.65 10594.5 ]\n",
      " [ 2765.06  1719.44]\n",
      " [ 8889.68  7954.52]\n",
      " [ 2917.51  1727.54]\n",
      " [ 7726.87  6686.43]\n",
      " [ 8114.41  7152.67]\n",
      " [ 5149.65  3877.3 ]\n",
      " [12398.49 33471.97]\n",
      " [12855.72 11879.1 ]\n",
      " [ 8853.05  7804.16]\n",
      " [ 7108.09  5969.72]\n",
      " [11223.55  9964.06]\n",
      " [11144.75  9957.72]\n",
      " [10568.03  9447.38]\n",
      " [ 2837.77  1826.84]\n",
      " [ 4564.31  3704.35]\n",
      " [47100.27 49577.66]\n",
      " [13078.47 11946.63]\n",
      " [ 3491.52  2904.09]\n",
      " [ 7212.2   6128.8 ]\n",
      " [ 2602.76  1534.3 ]\n",
      " [40173.21 38709.18]\n",
      " [11529.8  10436.1 ]\n",
      " [12165.37 11073.18]\n",
      " [ 6699.85  5469.01]\n",
      " [ 6046.99  5152.13]\n",
      " [ 4409.69  3556.92]\n",
      " [17874.46 22412.65]\n",
      " [21913.98 25678.78]\n",
      " [ 4387.22  3353.47]\n",
      " [ 7791.48  6555.07]\n",
      " [ 3170.41  2416.95]\n",
      " [14818.95 14590.63]\n",
      " [ 5219.64  3732.63]\n",
      " [ 6524.79  5846.92]\n",
      " [13571.29 12731.  ]\n",
      " [13555.46 13616.36]\n",
      " [10229.2   8988.16]\n",
      " [ 8822.77  7650.77]\n",
      " [ 4611.97  3594.17]\n",
      " [25758.82 18246.5 ]\n",
      " [ 3249.08  2155.68]\n",
      " [ 9695.07  8569.86]\n",
      " [ 8877.05  7526.71]\n",
      " [ 9617.46  9222.4 ]\n",
      " [15235.57 14119.62]\n",
      " [48596.64 47269.85]\n",
      " [ 4344.29  3260.2 ]\n",
      " [ 3945.35  2709.11]\n",
      " [ 8060.25  6933.24]\n",
      " [10442.61  9264.8 ]\n",
      " [ 8019.1   7243.81]\n",
      " [ 3253.44  2134.9 ]\n",
      " [11934.18 11520.1 ]\n",
      " [ 9203.03  8233.1 ]\n",
      " [ 7277.59  6289.75]\n",
      " [ 8147.43  7371.77]\n",
      " [13151.95 12094.48]\n",
      " [ 7421.5  23563.02]\n",
      " [ 7496.44  6457.84]\n",
      " [ 2935.94  1615.77]\n",
      " [ 7703.54  6600.21]\n",
      " [ 7958.87  7046.72]\n",
      " [ 4238.78  1984.45]\n",
      " [12532.91 11455.28]\n",
      " [ 5298.17  4137.52]\n",
      " [21288.69 23244.79]\n",
      " [ 5896.48 17128.43]\n",
      " [ 4660.37  3987.93]\n",
      " [ 5353.55  4670.64]\n",
      " [38962.75 47291.06]\n",
      " [11852.82 10796.35]\n",
      " [25110.66 35595.59]\n",
      " [ 2362.67  1136.4 ]\n",
      " [31758.55 38998.55]\n",
      " [ 3640.93  2459.72]\n",
      " [20383.84 21195.82]\n",
      " [13408.55 12268.63]\n",
      " [ 6063.5   4827.9 ]\n",
      " [ 2642.8   1635.73]\n",
      " [ 2837.05  1969.61]\n",
      " [ 5207.5   4357.04]\n",
      " [ 3337.84 10795.94]\n",
      " [26124.54 17081.08]\n",
      " [14715.72 13887.97]\n",
      " [ 5063.11  3579.83]\n",
      " [15135.48 14001.29]\n",
      " [48413.93 47462.89]\n",
      " [ 7731.77  6753.04]\n",
      " [12847.39 12096.65]\n",
      " [11450.77 10214.64]\n",
      " [11765.43 17361.77]\n",
      " [ 2859.02  1639.56]\n",
      " [ 9434.84  8342.91]\n",
      " [ 4856.06  4074.45]\n",
      " [ 8743.91  8083.92]\n",
      " [ 3056.27  2026.97]\n",
      " [14991.24 31620.  ]\n",
      " [ 2904.13  1981.58]\n",
      " [11464.5  20781.49]\n",
      " [24224.84 24869.84]\n",
      " [ 8606.79 18806.15]\n",
      " [ 9637.21  8551.35]\n",
      " [ 3693.35 18218.16]\n",
      " [14848.17 14210.54]\n",
      " [12137.21 10959.69]\n",
      " [ 5353.93  4441.21]\n",
      " [12954.54 12142.58]\n",
      " [11835.52 10560.49]\n",
      " [ 3820.06  2897.32]\n",
      " [ 3978.39  2755.02]\n",
      " [33229.89 34617.84]\n",
      " [30266.41 22331.57]\n",
      " [ 2560.01  1625.43]\n",
      " [45705.23 48517.56]\n",
      " [ 9144.24  8219.2 ]\n",
      " [ 7888.2   6940.91]\n",
      " [ 9124.99  8240.59]\n",
      " [40215.3  40103.89]\n",
      " [49106.6  42983.46]\n",
      " [46946.1  44202.65]\n",
      " [ 3307.96  2136.88]\n",
      " [ 6413.45  5227.99]\n",
      " [11631.77 10355.64]\n",
      " [10979.01 10065.41]\n",
      " [ 2385.87  1141.45]\n",
      " [13980.08 13012.21]\n",
      " [ 8394.81  7445.92]\n",
      " [ 9509.74  8410.05]\n",
      " [ 8136.93  6986.7 ]\n",
      " [46322.43 47896.79]\n",
      " [ 7566.16  6406.41]\n",
      " [ 6485.63  5354.07]\n",
      " [27063.87 17468.98]\n",
      " [15341.09 16776.3 ]\n",
      " [ 2262.64  1252.41]\n",
      " [ 9436.05  8527.53]\n",
      " [ 6191.04  5261.47]\n",
      " [ 3736.89  2362.23]\n",
      " [10562.44  9414.92]\n",
      " [11366.5  10118.42]\n",
      " [13836.26 12646.21]\n",
      " [ 9870.28 20878.78]\n",
      " [ 3688.53  2632.99]\n",
      " [ 7117.96  6067.13]\n",
      " [11865.3  10704.47]\n",
      " [15245.81 30166.62]\n",
      " [14381.65 13831.12]\n",
      " [11090.38  9869.81]\n",
      " [ 4033.42  2899.49]\n",
      " [26665.11 21774.32]\n",
      " [ 8398.88  7050.02]\n",
      " [ 6473.97 24671.66]\n",
      " [ 4311.07  3206.49]\n",
      " [ 8258.32  7077.19]\n",
      " [ 6385.5   5484.47]\n",
      " [10316.65  8605.36]\n",
      " [ 5122.64  3943.6 ]\n",
      " [ 7690.68  6775.96]\n",
      " [ 6085.77  4922.92]\n",
      " [27990.14 20773.63]\n",
      " [ 6256.09  5266.37]\n",
      " [ 4958.9   4340.44]\n",
      " [ 2258.04  1131.51]\n",
      " [ 8165.05  6640.54]\n",
      " [ 5351.03  4949.76]\n",
      " [ 2853.14  1769.53]\n",
      " [ 9150.2  15820.7 ]\n",
      " [ 3384.86  2480.98]\n",
      " [ 5310.54  4399.73]\n",
      " [14698.64 13822.8 ]\n",
      " [13243.22 13204.29]\n",
      " [10542.78  9290.14]\n",
      " [14644.52 13880.95]\n",
      " [11930.85 11033.66]\n",
      " [11028.37  9875.68]\n",
      " [ 9605.98 12829.46]\n",
      " [ 4450.79  3947.41]\n",
      " [ 8679.02  7358.18]\n",
      " [13032.62 11830.61]\n",
      " [ 5586.68  3693.43]\n",
      " [14584.47 14382.71]\n",
      " [ 7812.43  6593.51]\n",
      " [ 5446.39  4428.89]\n",
      " [28160.96 23065.42]\n",
      " [13750.71 13019.16]\n",
      " [12567.64 11365.95]\n",
      " [11335.16 23045.57]\n",
      " [ 3268.49  2250.84]\n",
      " [ 9575.94 32108.66]\n",
      " [ 4190.03  3161.45]\n",
      " [ 4433.49  3279.87]\n",
      " [ 6590.35  5709.16]\n",
      " [15891.39 15161.53]\n",
      " [14616.95 14394.56]\n",
      " [43762.9  41676.08]\n",
      " [ 3191.69  2130.68]\n",
      " [42676.76 40273.65]\n",
      " [ 4043.36  3484.33]\n",
      " [ 8485.21  7640.31]\n",
      " [33781.77 36124.57]\n",
      " [ 5174.83  4454.4 ]\n",
      " [ 3948.92  2710.83]\n",
      " [ 4077.52  3500.61]\n",
      " [11839.39 10713.64]\n",
      " [ 3837.25  2680.95]\n",
      " [ 3581.61  2217.47]\n",
      " [11191.84 10107.22]\n",
      " [46824.23 45863.21]\n",
      " [13717.39 16450.89]\n",
      " [ 9109.19  8162.72]\n",
      " [11576.53 10338.93]\n",
      " [31421.22 29523.17]\n",
      " [10822.18  9800.89]\n",
      " [ 3254.67  2523.17]\n",
      " [ 5526.63  4337.74]\n",
      " [11138.96 10156.78]\n",
      " [10931.63  9432.93]\n",
      " [10020.03  8825.09]\n",
      " [ 5683.24  5012.47]\n",
      " [ 9340.75  8116.27]\n",
      " [38700.43 51194.56]\n",
      " [16766.18 21098.55]\n",
      " [ 7645.6   6710.19]\n",
      " [24184.37 21223.68]\n",
      " [25987.8  24393.62]\n",
      " [10523.05  9504.31]\n",
      " [ 6766.99  5699.84]\n",
      " [10621.19 25656.58]\n",
      " [ 8364.04  6652.53]\n",
      " [11557.32 10269.46]\n",
      " [15625.94 15019.76]\n",
      " [ 3898.42  2741.95]\n",
      " [ 8101.56  6435.62]\n",
      " [12936.47 11938.26]\n",
      " [ 8457.01  7261.74]\n",
      " [21008.94 17496.31]\n",
      " [30581.45 33307.55]\n",
      " [26635.   32787.46]\n",
      " [ 9871.03 28468.92]\n",
      " [13083.2  20463.  ]\n",
      " [13620.43 12574.05]\n",
      " [ 4582.36  3736.46]\n",
      " [ 5191.9   4795.66]\n",
      " [12817.22 12032.33]\n",
      " [37611.12 37742.58]\n",
      " [36977.28 46718.16]\n",
      " [ 9548.91  8334.46]\n",
      " [45013.2  42211.14]\n",
      " [32076.04 34828.65]\n",
      " [25261.5  21771.34]\n",
      " [10038.54  9095.07]\n",
      " [12741.74 11566.3 ]\n",
      " [ 3033.88  1880.49]\n",
      " [ 3633.89  2457.21]\n",
      " [21853.99 17043.34]\n",
      " [10364.31 26140.36]]\n"
     ]
    }
   ],
   "source": [
    "print(np.concatenate((y_pred.reshape(len(y_pred),1),Y_test.reshape(len(Y_test),1)),1))"
   ]
  },
  {
   "cell_type": "markdown",
   "metadata": {},
   "source": [
    "### R-squared score"
   ]
  },
  {
   "cell_type": "code",
   "execution_count": 42,
   "metadata": {},
   "outputs": [],
   "source": [
    "from sklearn.metrics import r2_score"
   ]
  },
  {
   "cell_type": "code",
   "execution_count": 43,
   "metadata": {},
   "outputs": [
    {
     "data": {
      "text/plain": [
       "0.8455209995205955"
      ]
     },
     "execution_count": 43,
     "metadata": {},
     "output_type": "execute_result"
    }
   ],
   "source": [
    "r2_score(Y_test,y_pred)"
   ]
  },
  {
   "cell_type": "code",
   "execution_count": null,
   "metadata": {},
   "outputs": [],
   "source": []
  }
 ],
 "metadata": {
  "kernelspec": {
   "display_name": "Python 3",
   "language": "python",
   "name": "python3"
  },
  "language_info": {
   "codemirror_mode": {
    "name": "ipython",
    "version": 3
   },
   "file_extension": ".py",
   "mimetype": "text/x-python",
   "name": "python",
   "nbconvert_exporter": "python",
   "pygments_lexer": "ipython3",
   "version": "3.7.6"
  }
 },
 "nbformat": 4,
 "nbformat_minor": 4
}
